{
 "cells": [
  {
   "cell_type": "markdown",
   "metadata": {},
   "source": [
    "# Final Project EDA\n",
    "---"
   ]
  },
  {
   "cell_type": "markdown",
   "metadata": {},
   "source": [
    "## Plan\n",
    "- Perform an exploratory data analysis. The output at the end of the notebook will be:\n",
    "    - A list of clarifying questions\n",
    "    - A rough plan for solving the task, specifying 3-5 basic steps and explaining each step in one or two sentences"
   ]
  },
  {
   "cell_type": "markdown",
   "metadata": {},
   "source": [
    "## Objective\n",
    "In order to optimize production costs, the steel plant Steelproof decided to reduce their energy consumption at the steel processing stage. You'll have to develop a model that will be able to predict the temperature of the metal.\n",
    "\n",
    "### The Steps of Steel Processing\n",
    "\n",
    "Steel is processed in a metal ladle that has a capacity of about 100 tons. In order for the ladle to withstand high temperatures, it is lined with refractory bricks on the inside. Molten steel is poured into the ladle and heated to the desired temperature with graphite electrodes located on the lid.\n",
    "\n",
    "Sulfur is removed from the metal through the process of desulfurization. The steel's chemical composition is corrected (by adding alloys in the form of bullions from the bunker with bulk materials or with the help of a wire feeder), and the necessary samples are taken.\n",
    "\n",
    "Before alloying elements are included, the temperature of the steel is measured and its chemical composition is analyzed. The temperature is then raised for a few minutes, the alloying elements are added, and the alloy itself is purged with an inert gas. After that, the alloy is stirred and its temperature is measured again. This cycle repeats itself until the desired chemical composition and the optimal melting temperature are achieved.\n",
    "\n",
    "The molten steel is then refined or transferred into a continuous casting machine which solidifies the steel into slabs."
   ]
  },
  {
   "cell_type": "markdown",
   "metadata": {},
   "source": [
    "---"
   ]
  },
  {
   "cell_type": "markdown",
   "metadata": {},
   "source": [
    "## Imports"
   ]
  },
  {
   "cell_type": "code",
   "execution_count": 2,
   "metadata": {},
   "outputs": [
    {
     "name": "stderr",
     "output_type": "stream",
     "text": [
      "/Users/Ty/opt/anaconda3/lib/python3.7/site-packages/lightgbm/__init__.py:48: UserWarning: Starting from version 2.2.1, the library file in distribution wheels for macOS is built by the Apple Clang (Xcode_8.3.3) compiler.\n",
      "This means that in case of installing LightGBM from PyPI via the ``pip install lightgbm`` command, you don't need to install the gcc compiler anymore.\n",
      "Instead of that, you need to install the OpenMP library, which is required for running LightGBM on the system with the Apple Clang compiler.\n",
      "You can install the OpenMP library by the following command: ``brew install libomp``.\n",
      "  \"You can install the OpenMP library by the following command: ``brew install libomp``.\", UserWarning)\n"
     ]
    }
   ],
   "source": [
    "import pandas as pd\n",
    "import numpy as np\n",
    "import matplotlib.pyplot as plt\n",
    "import seaborn as sns\n",
    "import os\n",
    "import time\n",
    "\n",
    "# Models and Metrics\n",
    "from sklearn.model_selection import train_test_split, GridSearchCV, cross_val_score\n",
    "from sklearn.preprocessing import MinMaxScaler\n",
    "from sklearn.metrics import mean_absolute_error\n",
    "from sklearn.linear_model import LogisticRegression, LinearRegression\n",
    "from sklearn.ensemble import RandomForestRegressor\n",
    "import xgboost as xgb\n",
    "import lightgbm as lgb\n",
    "from catboost import CatBoostRegressor"
   ]
  },
  {
   "cell_type": "markdown",
   "metadata": {},
   "source": [
    "## Data Description\n",
    "\n",
    "- The data consists of files obtained from different sources:\n",
    "\n",
    "    - `data_arc_en.csv` — electrode data\n",
    "    - `data_bulk_en.csv` — bulk material supply data (volume)\n",
    "    - `data_bulk_time_en.csv` — bulk material delivery data (time)\n",
    "    - `data_gas_en.csv` — gas purge data\n",
    "    - `data_temp_en.csv` — temperature measurement results\n",
    "    - `data_wire_en.csv` — wire materials data (volume)\n",
    "    - `data_wire_time_en.csv` — wire materials data (time)\n",
    "\n",
    "- In each file, the `key` column contains the batch number.\n",
    "\n",
    "- There may be several rows with the same `key` value in the files. These values correspond to different processing iterations.\n",
    "---\n",
    "\n",
    "### Data Upload"
   ]
  },
  {
   "cell_type": "code",
   "execution_count": 3,
   "metadata": {},
   "outputs": [],
   "source": [
    "# Original Data\n",
    "t1 = pd.read_csv('data_final_steel_en/data_arc_en.csv') # — electrode data\n",
    "t2 = pd.read_csv('data_final_steel_en/data_bulk_en.csv') #— bulk material supply data (volume)\n",
    "t3 = pd.read_csv('data_final_steel_en/data_bulk_time_en.csv') #— bulk material delivery data (time)\n",
    "t4 = pd.read_csv('data_final_steel_en/data_gas_en.csv') #— gas purge data\n",
    "t5 = pd.read_csv('data_final_steel_en/data_temp_en.csv') #— temperature measurement results\n",
    "t6 = pd.read_csv('data_final_steel_en/data_wire_en.csv') #— wire materials data (volume)\n",
    "t7 = pd.read_csv('data_final_steel_en/data_wire_time_en.csv') #— wire materials data (time)\n",
    "\n",
    "# Data to work with\n",
    "electrode = t1.copy()\n",
    "bulk_supply_vol = t2.copy()\n",
    "bulk_delivery_time = t3.copy()\n",
    "gas = t4.copy()\n",
    "temp = t5.copy()\n",
    "wire_vol = t6.copy()\n",
    "wire_time = t7.copy()"
   ]
  },
  {
   "cell_type": "code",
   "execution_count": 4,
   "metadata": {},
   "outputs": [],
   "source": [
    "def data_view(df, add_hist=True):\n",
    "    '''Quick way to look at and see the features in the different dataframes'''\n",
    "    \n",
    "    display(df.head())\n",
    "    print(' ')\n",
    "    print(df.info())\n",
    "    print(' ')\n",
    "    print(df.drop('key', axis=1).describe())\n",
    "    print(' ')\n",
    "    if add_hist:\n",
    "        df.drop('key', axis=1).hist(figsize=(20,10))\n",
    "        plt.show()\n",
    "    else:\n",
    "        pass"
   ]
  },
  {
   "cell_type": "markdown",
   "metadata": {},
   "source": [
    "## Electrode EDA:\n",
    "---"
   ]
  },
  {
   "cell_type": "code",
   "execution_count": 5,
   "metadata": {},
   "outputs": [
    {
     "data": {
      "text/html": [
       "<div>\n",
       "<style scoped>\n",
       "    .dataframe tbody tr th:only-of-type {\n",
       "        vertical-align: middle;\n",
       "    }\n",
       "\n",
       "    .dataframe tbody tr th {\n",
       "        vertical-align: top;\n",
       "    }\n",
       "\n",
       "    .dataframe thead th {\n",
       "        text-align: right;\n",
       "    }\n",
       "</style>\n",
       "<table border=\"1\" class=\"dataframe\">\n",
       "  <thead>\n",
       "    <tr style=\"text-align: right;\">\n",
       "      <th></th>\n",
       "      <th>key</th>\n",
       "      <th>Arc heating start</th>\n",
       "      <th>Arc heating end</th>\n",
       "      <th>Active power</th>\n",
       "      <th>Reactive power</th>\n",
       "    </tr>\n",
       "  </thead>\n",
       "  <tbody>\n",
       "    <tr>\n",
       "      <th>0</th>\n",
       "      <td>1</td>\n",
       "      <td>2019-05-03 11:02:14</td>\n",
       "      <td>2019-05-03 11:06:02</td>\n",
       "      <td>0.976059</td>\n",
       "      <td>0.687084</td>\n",
       "    </tr>\n",
       "    <tr>\n",
       "      <th>1</th>\n",
       "      <td>1</td>\n",
       "      <td>2019-05-03 11:07:28</td>\n",
       "      <td>2019-05-03 11:10:33</td>\n",
       "      <td>0.805607</td>\n",
       "      <td>0.520285</td>\n",
       "    </tr>\n",
       "    <tr>\n",
       "      <th>2</th>\n",
       "      <td>1</td>\n",
       "      <td>2019-05-03 11:11:44</td>\n",
       "      <td>2019-05-03 11:14:36</td>\n",
       "      <td>0.744363</td>\n",
       "      <td>0.498805</td>\n",
       "    </tr>\n",
       "    <tr>\n",
       "      <th>3</th>\n",
       "      <td>1</td>\n",
       "      <td>2019-05-03 11:18:14</td>\n",
       "      <td>2019-05-03 11:24:19</td>\n",
       "      <td>1.659363</td>\n",
       "      <td>1.062669</td>\n",
       "    </tr>\n",
       "    <tr>\n",
       "      <th>4</th>\n",
       "      <td>1</td>\n",
       "      <td>2019-05-03 11:26:09</td>\n",
       "      <td>2019-05-03 11:28:37</td>\n",
       "      <td>0.692755</td>\n",
       "      <td>0.414397</td>\n",
       "    </tr>\n",
       "  </tbody>\n",
       "</table>\n",
       "</div>"
      ],
      "text/plain": [
       "   key    Arc heating start      Arc heating end  Active power  Reactive power\n",
       "0    1  2019-05-03 11:02:14  2019-05-03 11:06:02      0.976059        0.687084\n",
       "1    1  2019-05-03 11:07:28  2019-05-03 11:10:33      0.805607        0.520285\n",
       "2    1  2019-05-03 11:11:44  2019-05-03 11:14:36      0.744363        0.498805\n",
       "3    1  2019-05-03 11:18:14  2019-05-03 11:24:19      1.659363        1.062669\n",
       "4    1  2019-05-03 11:26:09  2019-05-03 11:28:37      0.692755        0.414397"
      ]
     },
     "metadata": {},
     "output_type": "display_data"
    },
    {
     "name": "stdout",
     "output_type": "stream",
     "text": [
      " \n",
      "<class 'pandas.core.frame.DataFrame'>\n",
      "RangeIndex: 14876 entries, 0 to 14875\n",
      "Data columns (total 5 columns):\n",
      " #   Column             Non-Null Count  Dtype  \n",
      "---  ------             --------------  -----  \n",
      " 0   key                14876 non-null  int64  \n",
      " 1   Arc heating start  14876 non-null  object \n",
      " 2   Arc heating end    14876 non-null  object \n",
      " 3   Active power       14876 non-null  float64\n",
      " 4   Reactive power     14876 non-null  float64\n",
      "dtypes: float64(2), int64(1), object(2)\n",
      "memory usage: 581.2+ KB\n",
      "None\n",
      " \n",
      "       Active power  Reactive power\n",
      "count  14876.000000    14876.000000\n",
      "mean       0.670441        0.452592\n",
      "std        0.408159        5.878702\n",
      "min        0.030002     -715.504924\n",
      "25%        0.395297        0.290991\n",
      "50%        0.555517        0.415962\n",
      "75%        0.857034        0.637371\n",
      "max        3.731596        2.676388\n",
      " \n"
     ]
    },
    {
     "data": {
      "image/png": "[encoded data removed]",
      "text/plain": [
       "<Figure size 1440x720 with 2 Axes>"
      ]
     },
     "metadata": {
      "needs_background": "light"
     },
     "output_type": "display_data"
    }
   ],
   "source": [
    "data_view(electrode)"
   ]
  },
  {
   "cell_type": "code",
   "execution_count": 6,
   "metadata": {},
   "outputs": [
    {
     "name": "stdout",
     "output_type": "stream",
     "text": [
      "Count of negative Reactive power rows: 1\n",
      "Count of total Reactive power rows: 14876\n",
      " \n"
     ]
    },
    {
     "data": {
      "image/png": "[encoded data removed]",
      "text/plain": [
       "<Figure size 432x288 with 1 Axes>"
      ]
     },
     "metadata": {
      "needs_background": "light"
     },
     "output_type": "display_data"
    }
   ],
   "source": [
    "# fix outlier in 'Reactive Power' columns\n",
    "\n",
    "print('Count of negative Reactive power rows:', len(electrode[electrode['Reactive power'] < 0]))\n",
    "print('Count of total Reactive power rows:', len(electrode))\n",
    "print(' ')\n",
    "\n",
    "electrode = electrode[electrode['Reactive power'] >= 0]\n",
    "\n",
    "electrode['Reactive power'].hist()\n",
    "plt.title('Reactive Power')\n",
    "plt.show()"
   ]
  },
  {
   "cell_type": "code",
   "execution_count": 7,
   "metadata": {},
   "outputs": [],
   "source": [
    "def convert_cols(df):\n",
    "    return [x.lower().replace(' ', '_') for x in list(df.columns)]"
   ]
  },
  {
   "cell_type": "code",
   "execution_count": 8,
   "metadata": {},
   "outputs": [
    {
     "name": "stdout",
     "output_type": "stream",
     "text": [
      "<class 'pandas.core.frame.DataFrame'>\n",
      "Int64Index: 14875 entries, 0 to 14875\n",
      "Data columns (total 5 columns):\n",
      " #   Column             Non-Null Count  Dtype         \n",
      "---  ------             --------------  -----         \n",
      " 0   key                14875 non-null  int64         \n",
      " 1   arc_heating_start  14875 non-null  datetime64[ns]\n",
      " 2   arc_heating_end    14875 non-null  datetime64[ns]\n",
      " 3   active_power       14875 non-null  float64       \n",
      " 4   reactive_power     14875 non-null  float64       \n",
      "dtypes: datetime64[ns](2), float64(2), int64(1)\n",
      "memory usage: 697.3 KB\n",
      "None\n"
     ]
    }
   ],
   "source": [
    "# Convert 'start' and 'end' to datetime dtypes\n",
    "electrode['Arc heating start'] = pd.to_datetime(electrode['Arc heating start'])\n",
    "electrode['Arc heating end'] = pd.to_datetime(electrode['Arc heating end'])\n",
    "\n",
    "# column names\n",
    "electrode.columns = convert_cols(electrode)\n",
    "\n",
    "print(electrode.info())"
   ]
  },
  {
   "cell_type": "markdown",
   "metadata": {},
   "source": [
    "#### Electrode Data Notes:\n",
    "- No Null values\n",
    "- Removed negative outlier in the 'reactive_power' column\n",
    "- Converted heating time start and end to datetime dtypes\n",
    "- Column Definitions\n",
    "    - `key` = batch number\n",
    "    - `arc_heating_start` = time when the electric arc begins to heat the metal\n",
    "    - `arc_heating_end` = time when the electric arc stops heating the metal\n",
    "    - `active_power` = the real power measured in watts\n",
    "    - `reactive_power` = the useless power measured in VAR (volt-ampere reactive)"
   ]
  },
  {
   "cell_type": "markdown",
   "metadata": {},
   "source": [
    "## Bulk Supply EDA\n",
    "---"
   ]
  },
  {
   "cell_type": "code",
   "execution_count": 9,
   "metadata": {},
   "outputs": [
    {
     "data": {
      "text/html": [
       "<div>\n",
       "<style scoped>\n",
       "    .dataframe tbody tr th:only-of-type {\n",
       "        vertical-align: middle;\n",
       "    }\n",
       "\n",
       "    .dataframe tbody tr th {\n",
       "        vertical-align: top;\n",
       "    }\n",
       "\n",
       "    .dataframe thead th {\n",
       "        text-align: right;\n",
       "    }\n",
       "</style>\n",
       "<table border=\"1\" class=\"dataframe\">\n",
       "  <thead>\n",
       "    <tr style=\"text-align: right;\">\n",
       "      <th></th>\n",
       "      <th>key</th>\n",
       "      <th>Bulk 1</th>\n",
       "      <th>Bulk 2</th>\n",
       "      <th>Bulk 3</th>\n",
       "      <th>Bulk 4</th>\n",
       "      <th>Bulk 5</th>\n",
       "      <th>Bulk 6</th>\n",
       "      <th>Bulk 7</th>\n",
       "      <th>Bulk 8</th>\n",
       "      <th>Bulk 9</th>\n",
       "      <th>Bulk 10</th>\n",
       "      <th>Bulk 11</th>\n",
       "      <th>Bulk 12</th>\n",
       "      <th>Bulk 13</th>\n",
       "      <th>Bulk 14</th>\n",
       "      <th>Bulk 15</th>\n",
       "    </tr>\n",
       "  </thead>\n",
       "  <tbody>\n",
       "    <tr>\n",
       "      <th>0</th>\n",
       "      <td>1</td>\n",
       "      <td>NaN</td>\n",
       "      <td>NaN</td>\n",
       "      <td>NaN</td>\n",
       "      <td>43.0</td>\n",
       "      <td>NaN</td>\n",
       "      <td>NaN</td>\n",
       "      <td>NaN</td>\n",
       "      <td>NaN</td>\n",
       "      <td>NaN</td>\n",
       "      <td>NaN</td>\n",
       "      <td>NaN</td>\n",
       "      <td>206.0</td>\n",
       "      <td>NaN</td>\n",
       "      <td>150.0</td>\n",
       "      <td>154.0</td>\n",
       "    </tr>\n",
       "    <tr>\n",
       "      <th>1</th>\n",
       "      <td>2</td>\n",
       "      <td>NaN</td>\n",
       "      <td>NaN</td>\n",
       "      <td>NaN</td>\n",
       "      <td>73.0</td>\n",
       "      <td>NaN</td>\n",
       "      <td>NaN</td>\n",
       "      <td>NaN</td>\n",
       "      <td>NaN</td>\n",
       "      <td>NaN</td>\n",
       "      <td>NaN</td>\n",
       "      <td>NaN</td>\n",
       "      <td>206.0</td>\n",
       "      <td>NaN</td>\n",
       "      <td>149.0</td>\n",
       "      <td>154.0</td>\n",
       "    </tr>\n",
       "    <tr>\n",
       "      <th>2</th>\n",
       "      <td>3</td>\n",
       "      <td>NaN</td>\n",
       "      <td>NaN</td>\n",
       "      <td>NaN</td>\n",
       "      <td>34.0</td>\n",
       "      <td>NaN</td>\n",
       "      <td>NaN</td>\n",
       "      <td>NaN</td>\n",
       "      <td>NaN</td>\n",
       "      <td>NaN</td>\n",
       "      <td>NaN</td>\n",
       "      <td>NaN</td>\n",
       "      <td>205.0</td>\n",
       "      <td>NaN</td>\n",
       "      <td>152.0</td>\n",
       "      <td>153.0</td>\n",
       "    </tr>\n",
       "    <tr>\n",
       "      <th>3</th>\n",
       "      <td>4</td>\n",
       "      <td>NaN</td>\n",
       "      <td>NaN</td>\n",
       "      <td>NaN</td>\n",
       "      <td>81.0</td>\n",
       "      <td>NaN</td>\n",
       "      <td>NaN</td>\n",
       "      <td>NaN</td>\n",
       "      <td>NaN</td>\n",
       "      <td>NaN</td>\n",
       "      <td>NaN</td>\n",
       "      <td>NaN</td>\n",
       "      <td>207.0</td>\n",
       "      <td>NaN</td>\n",
       "      <td>153.0</td>\n",
       "      <td>154.0</td>\n",
       "    </tr>\n",
       "    <tr>\n",
       "      <th>4</th>\n",
       "      <td>5</td>\n",
       "      <td>NaN</td>\n",
       "      <td>NaN</td>\n",
       "      <td>NaN</td>\n",
       "      <td>78.0</td>\n",
       "      <td>NaN</td>\n",
       "      <td>NaN</td>\n",
       "      <td>NaN</td>\n",
       "      <td>NaN</td>\n",
       "      <td>NaN</td>\n",
       "      <td>NaN</td>\n",
       "      <td>NaN</td>\n",
       "      <td>203.0</td>\n",
       "      <td>NaN</td>\n",
       "      <td>151.0</td>\n",
       "      <td>152.0</td>\n",
       "    </tr>\n",
       "  </tbody>\n",
       "</table>\n",
       "</div>"
      ],
      "text/plain": [
       "   key  Bulk 1  Bulk 2  Bulk 3  Bulk 4  Bulk 5  Bulk 6  Bulk 7  Bulk 8  \\\n",
       "0    1     NaN     NaN     NaN    43.0     NaN     NaN     NaN     NaN   \n",
       "1    2     NaN     NaN     NaN    73.0     NaN     NaN     NaN     NaN   \n",
       "2    3     NaN     NaN     NaN    34.0     NaN     NaN     NaN     NaN   \n",
       "3    4     NaN     NaN     NaN    81.0     NaN     NaN     NaN     NaN   \n",
       "4    5     NaN     NaN     NaN    78.0     NaN     NaN     NaN     NaN   \n",
       "\n",
       "   Bulk 9  Bulk 10  Bulk 11  Bulk 12  Bulk 13  Bulk 14  Bulk 15  \n",
       "0     NaN      NaN      NaN    206.0      NaN    150.0    154.0  \n",
       "1     NaN      NaN      NaN    206.0      NaN    149.0    154.0  \n",
       "2     NaN      NaN      NaN    205.0      NaN    152.0    153.0  \n",
       "3     NaN      NaN      NaN    207.0      NaN    153.0    154.0  \n",
       "4     NaN      NaN      NaN    203.0      NaN    151.0    152.0  "
      ]
     },
     "metadata": {},
     "output_type": "display_data"
    },
    {
     "name": "stdout",
     "output_type": "stream",
     "text": [
      " \n",
      "<class 'pandas.core.frame.DataFrame'>\n",
      "RangeIndex: 3129 entries, 0 to 3128\n",
      "Data columns (total 16 columns):\n",
      " #   Column   Non-Null Count  Dtype  \n",
      "---  ------   --------------  -----  \n",
      " 0   key      3129 non-null   int64  \n",
      " 1   Bulk 1   252 non-null    float64\n",
      " 2   Bulk 2   22 non-null     float64\n",
      " 3   Bulk 3   1298 non-null   float64\n",
      " 4   Bulk 4   1014 non-null   float64\n",
      " 5   Bulk 5   77 non-null     float64\n",
      " 6   Bulk 6   576 non-null    float64\n",
      " 7   Bulk 7   25 non-null     float64\n",
      " 8   Bulk 8   1 non-null      float64\n",
      " 9   Bulk 9   19 non-null     float64\n",
      " 10  Bulk 10  176 non-null    float64\n",
      " 11  Bulk 11  177 non-null    float64\n",
      " 12  Bulk 12  2450 non-null   float64\n",
      " 13  Bulk 13  18 non-null     float64\n",
      " 14  Bulk 14  2806 non-null   float64\n",
      " 15  Bulk 15  2248 non-null   float64\n",
      "dtypes: float64(15), int64(1)\n",
      "memory usage: 391.2 KB\n",
      "None\n",
      " \n",
      "           Bulk 1      Bulk 2       Bulk 3       Bulk 4      Bulk 5  \\\n",
      "count  252.000000   22.000000  1298.000000  1014.000000   77.000000   \n",
      "mean    39.242063  253.045455   113.879045   104.394477  107.025974   \n",
      "std     18.277654   21.180578    75.483494    48.184126   81.790646   \n",
      "min     10.000000  228.000000     6.000000    12.000000   11.000000   \n",
      "25%     27.000000  242.000000    58.000000    72.000000   70.000000   \n",
      "50%     31.000000  251.500000    97.500000   102.000000   86.000000   \n",
      "75%     46.000000  257.750000   152.000000   133.000000  132.000000   \n",
      "max    185.000000  325.000000   454.000000   281.000000  603.000000   \n",
      "\n",
      "           Bulk 6      Bulk 7  Bulk 8      Bulk 9     Bulk 10     Bulk 11  \\\n",
      "count  576.000000   25.000000     1.0   19.000000  176.000000  177.000000   \n",
      "mean   118.925347  305.600000    49.0   76.315789   83.284091   76.819209   \n",
      "std     72.057776  191.022904     NaN   21.720581   26.060347   59.655365   \n",
      "min     17.000000   47.000000    49.0   63.000000   24.000000    8.000000   \n",
      "25%     69.750000  155.000000    49.0   66.000000   64.000000   25.000000   \n",
      "50%    100.000000  298.000000    49.0   68.000000   86.500000   64.000000   \n",
      "75%    157.000000  406.000000    49.0   70.500000  102.000000  106.000000   \n",
      "max    503.000000  772.000000    49.0  147.000000  159.000000  313.000000   \n",
      "\n",
      "           Bulk 12     Bulk 13      Bulk 14      Bulk 15  \n",
      "count  2450.000000   18.000000  2806.000000  2248.000000  \n",
      "mean    260.471020  181.111111   170.284747   160.513345  \n",
      "std     120.649269   46.088009    65.868652    51.765319  \n",
      "min      53.000000  151.000000    16.000000     1.000000  \n",
      "25%     204.000000  153.250000   119.000000   105.000000  \n",
      "50%     208.000000  155.500000   151.000000   160.000000  \n",
      "75%     316.000000  203.500000   205.750000   205.000000  \n",
      "max    1849.000000  305.000000   636.000000   405.000000  \n",
      " \n"
     ]
    },
    {
     "data": {
      "image/png": "[encoded data removed]",
      "text/plain": [
       "<Figure size 1440x720 with 16 Axes>"
      ]
     },
     "metadata": {
      "needs_background": "light"
     },
     "output_type": "display_data"
    }
   ],
   "source": [
    "data_view(bulk_supply_vol)"
   ]
  },
  {
   "cell_type": "code",
   "execution_count": 10,
   "metadata": {},
   "outputs": [
    {
     "data": {
      "text/html": [
       "<div>\n",
       "<style scoped>\n",
       "    .dataframe tbody tr th:only-of-type {\n",
       "        vertical-align: middle;\n",
       "    }\n",
       "\n",
       "    .dataframe tbody tr th {\n",
       "        vertical-align: top;\n",
       "    }\n",
       "\n",
       "    .dataframe thead th {\n",
       "        text-align: right;\n",
       "    }\n",
       "</style>\n",
       "<table border=\"1\" class=\"dataframe\">\n",
       "  <thead>\n",
       "    <tr style=\"text-align: right;\">\n",
       "      <th></th>\n",
       "      <th>key</th>\n",
       "      <th>bulk_1</th>\n",
       "      <th>bulk_2</th>\n",
       "      <th>bulk_3</th>\n",
       "      <th>bulk_4</th>\n",
       "      <th>bulk_5</th>\n",
       "      <th>bulk_6</th>\n",
       "      <th>bulk_7</th>\n",
       "      <th>bulk_8</th>\n",
       "      <th>bulk_9</th>\n",
       "      <th>bulk_10</th>\n",
       "      <th>bulk_11</th>\n",
       "      <th>bulk_12</th>\n",
       "      <th>bulk_13</th>\n",
       "      <th>bulk_14</th>\n",
       "      <th>bulk_15</th>\n",
       "    </tr>\n",
       "  </thead>\n",
       "  <tbody>\n",
       "    <tr>\n",
       "      <th>0</th>\n",
       "      <td>1</td>\n",
       "      <td>0.0</td>\n",
       "      <td>0.0</td>\n",
       "      <td>0.0</td>\n",
       "      <td>43.0</td>\n",
       "      <td>0.0</td>\n",
       "      <td>0.0</td>\n",
       "      <td>0.0</td>\n",
       "      <td>0.0</td>\n",
       "      <td>0.0</td>\n",
       "      <td>0.0</td>\n",
       "      <td>0.0</td>\n",
       "      <td>206.0</td>\n",
       "      <td>0.0</td>\n",
       "      <td>150.0</td>\n",
       "      <td>154.0</td>\n",
       "    </tr>\n",
       "    <tr>\n",
       "      <th>1</th>\n",
       "      <td>2</td>\n",
       "      <td>0.0</td>\n",
       "      <td>0.0</td>\n",
       "      <td>0.0</td>\n",
       "      <td>73.0</td>\n",
       "      <td>0.0</td>\n",
       "      <td>0.0</td>\n",
       "      <td>0.0</td>\n",
       "      <td>0.0</td>\n",
       "      <td>0.0</td>\n",
       "      <td>0.0</td>\n",
       "      <td>0.0</td>\n",
       "      <td>206.0</td>\n",
       "      <td>0.0</td>\n",
       "      <td>149.0</td>\n",
       "      <td>154.0</td>\n",
       "    </tr>\n",
       "  </tbody>\n",
       "</table>\n",
       "</div>"
      ],
      "text/plain": [
       "   key  bulk_1  bulk_2  bulk_3  bulk_4  bulk_5  bulk_6  bulk_7  bulk_8  \\\n",
       "0    1     0.0     0.0     0.0    43.0     0.0     0.0     0.0     0.0   \n",
       "1    2     0.0     0.0     0.0    73.0     0.0     0.0     0.0     0.0   \n",
       "\n",
       "   bulk_9  bulk_10  bulk_11  bulk_12  bulk_13  bulk_14  bulk_15  \n",
       "0     0.0      0.0      0.0    206.0      0.0    150.0    154.0  \n",
       "1     0.0      0.0      0.0    206.0      0.0    149.0    154.0  "
      ]
     },
     "execution_count": 10,
     "metadata": {},
     "output_type": "execute_result"
    }
   ],
   "source": [
    "# column names\n",
    "bulk_supply_vol.columns = convert_cols(bulk_supply_vol)\n",
    "\n",
    "# Converting Nulls to zeroes\n",
    "bulk_supply_vol_zero = bulk_supply_vol.copy()\n",
    "bulk_supply_vol_zero = bulk_supply_vol_zero.fillna(0)\n",
    "\n",
    "bulk_supply_vol_zero.head(2)"
   ]
  },
  {
   "cell_type": "markdown",
   "metadata": {},
   "source": [
    "#### Bulk Supply Data Notes:\n",
    "- Nulls\n",
    "    - There are numerous null values, but they make sense since each column represents the supply of each bulk material and there is not always a supply.\n",
    "    - I made a copy of the table to show null values as zeroes instead to be able to work with numeric values rather than null values\n",
    "- Outliers\n",
    "    - Each distribution for each bulk supply is different for each row/batch\n",
    "    - Can expect wildly different values for each Bulk #\n",
    "- Dtypes\n",
    "    - All data types are correct\n",
    "- Column Definitions\n",
    "    - `key` = batch number\n",
    "    - `Bulk #` = The bulk material supply"
   ]
  },
  {
   "cell_type": "markdown",
   "metadata": {},
   "source": [
    "## Bulk Delivery EDA\n",
    "---"
   ]
  },
  {
   "cell_type": "code",
   "execution_count": 11,
   "metadata": {},
   "outputs": [
    {
     "data": {
      "text/html": [
       "<div>\n",
       "<style scoped>\n",
       "    .dataframe tbody tr th:only-of-type {\n",
       "        vertical-align: middle;\n",
       "    }\n",
       "\n",
       "    .dataframe tbody tr th {\n",
       "        vertical-align: top;\n",
       "    }\n",
       "\n",
       "    .dataframe thead th {\n",
       "        text-align: right;\n",
       "    }\n",
       "</style>\n",
       "<table border=\"1\" class=\"dataframe\">\n",
       "  <thead>\n",
       "    <tr style=\"text-align: right;\">\n",
       "      <th></th>\n",
       "      <th>key</th>\n",
       "      <th>Bulk 1</th>\n",
       "      <th>Bulk 2</th>\n",
       "      <th>Bulk 3</th>\n",
       "      <th>Bulk 4</th>\n",
       "      <th>Bulk 5</th>\n",
       "      <th>Bulk 6</th>\n",
       "      <th>Bulk 7</th>\n",
       "      <th>Bulk 8</th>\n",
       "      <th>Bulk 9</th>\n",
       "      <th>Bulk 10</th>\n",
       "      <th>Bulk 11</th>\n",
       "      <th>Bulk 12</th>\n",
       "      <th>Bulk 13</th>\n",
       "      <th>Bulk 14</th>\n",
       "      <th>Bulk 15</th>\n",
       "    </tr>\n",
       "  </thead>\n",
       "  <tbody>\n",
       "    <tr>\n",
       "      <th>0</th>\n",
       "      <td>1</td>\n",
       "      <td>NaN</td>\n",
       "      <td>NaN</td>\n",
       "      <td>NaN</td>\n",
       "      <td>2019-05-03 11:21:30</td>\n",
       "      <td>NaN</td>\n",
       "      <td>NaN</td>\n",
       "      <td>NaN</td>\n",
       "      <td>NaN</td>\n",
       "      <td>NaN</td>\n",
       "      <td>NaN</td>\n",
       "      <td>NaN</td>\n",
       "      <td>2019-05-03 11:03:52</td>\n",
       "      <td>NaN</td>\n",
       "      <td>2019-05-03 11:03:52</td>\n",
       "      <td>2019-05-03 11:03:52</td>\n",
       "    </tr>\n",
       "    <tr>\n",
       "      <th>1</th>\n",
       "      <td>2</td>\n",
       "      <td>NaN</td>\n",
       "      <td>NaN</td>\n",
       "      <td>NaN</td>\n",
       "      <td>2019-05-03 11:46:38</td>\n",
       "      <td>NaN</td>\n",
       "      <td>NaN</td>\n",
       "      <td>NaN</td>\n",
       "      <td>NaN</td>\n",
       "      <td>NaN</td>\n",
       "      <td>NaN</td>\n",
       "      <td>NaN</td>\n",
       "      <td>2019-05-03 11:40:20</td>\n",
       "      <td>NaN</td>\n",
       "      <td>2019-05-03 11:40:20</td>\n",
       "      <td>2019-05-03 11:40:20</td>\n",
       "    </tr>\n",
       "    <tr>\n",
       "      <th>2</th>\n",
       "      <td>3</td>\n",
       "      <td>NaN</td>\n",
       "      <td>NaN</td>\n",
       "      <td>NaN</td>\n",
       "      <td>2019-05-03 12:31:06</td>\n",
       "      <td>NaN</td>\n",
       "      <td>NaN</td>\n",
       "      <td>NaN</td>\n",
       "      <td>NaN</td>\n",
       "      <td>NaN</td>\n",
       "      <td>NaN</td>\n",
       "      <td>NaN</td>\n",
       "      <td>2019-05-03 12:09:40</td>\n",
       "      <td>NaN</td>\n",
       "      <td>2019-05-03 12:09:40</td>\n",
       "      <td>2019-05-03 12:09:40</td>\n",
       "    </tr>\n",
       "    <tr>\n",
       "      <th>3</th>\n",
       "      <td>4</td>\n",
       "      <td>NaN</td>\n",
       "      <td>NaN</td>\n",
       "      <td>NaN</td>\n",
       "      <td>2019-05-03 12:48:43</td>\n",
       "      <td>NaN</td>\n",
       "      <td>NaN</td>\n",
       "      <td>NaN</td>\n",
       "      <td>NaN</td>\n",
       "      <td>NaN</td>\n",
       "      <td>NaN</td>\n",
       "      <td>NaN</td>\n",
       "      <td>2019-05-03 12:41:24</td>\n",
       "      <td>NaN</td>\n",
       "      <td>2019-05-03 12:41:24</td>\n",
       "      <td>2019-05-03 12:41:24</td>\n",
       "    </tr>\n",
       "    <tr>\n",
       "      <th>4</th>\n",
       "      <td>5</td>\n",
       "      <td>NaN</td>\n",
       "      <td>NaN</td>\n",
       "      <td>NaN</td>\n",
       "      <td>2019-05-03 13:18:50</td>\n",
       "      <td>NaN</td>\n",
       "      <td>NaN</td>\n",
       "      <td>NaN</td>\n",
       "      <td>NaN</td>\n",
       "      <td>NaN</td>\n",
       "      <td>NaN</td>\n",
       "      <td>NaN</td>\n",
       "      <td>2019-05-03 13:12:56</td>\n",
       "      <td>NaN</td>\n",
       "      <td>2019-05-03 13:12:56</td>\n",
       "      <td>2019-05-03 13:12:56</td>\n",
       "    </tr>\n",
       "  </tbody>\n",
       "</table>\n",
       "</div>"
      ],
      "text/plain": [
       "   key Bulk 1 Bulk 2 Bulk 3               Bulk 4 Bulk 5 Bulk 6 Bulk 7 Bulk 8  \\\n",
       "0    1    NaN    NaN    NaN  2019-05-03 11:21:30    NaN    NaN    NaN    NaN   \n",
       "1    2    NaN    NaN    NaN  2019-05-03 11:46:38    NaN    NaN    NaN    NaN   \n",
       "2    3    NaN    NaN    NaN  2019-05-03 12:31:06    NaN    NaN    NaN    NaN   \n",
       "3    4    NaN    NaN    NaN  2019-05-03 12:48:43    NaN    NaN    NaN    NaN   \n",
       "4    5    NaN    NaN    NaN  2019-05-03 13:18:50    NaN    NaN    NaN    NaN   \n",
       "\n",
       "  Bulk 9 Bulk 10 Bulk 11              Bulk 12 Bulk 13              Bulk 14  \\\n",
       "0    NaN     NaN     NaN  2019-05-03 11:03:52     NaN  2019-05-03 11:03:52   \n",
       "1    NaN     NaN     NaN  2019-05-03 11:40:20     NaN  2019-05-03 11:40:20   \n",
       "2    NaN     NaN     NaN  2019-05-03 12:09:40     NaN  2019-05-03 12:09:40   \n",
       "3    NaN     NaN     NaN  2019-05-03 12:41:24     NaN  2019-05-03 12:41:24   \n",
       "4    NaN     NaN     NaN  2019-05-03 13:12:56     NaN  2019-05-03 13:12:56   \n",
       "\n",
       "               Bulk 15  \n",
       "0  2019-05-03 11:03:52  \n",
       "1  2019-05-03 11:40:20  \n",
       "2  2019-05-03 12:09:40  \n",
       "3  2019-05-03 12:41:24  \n",
       "4  2019-05-03 13:12:56  "
      ]
     },
     "metadata": {},
     "output_type": "display_data"
    },
    {
     "name": "stdout",
     "output_type": "stream",
     "text": [
      " \n",
      "<class 'pandas.core.frame.DataFrame'>\n",
      "RangeIndex: 3129 entries, 0 to 3128\n",
      "Data columns (total 16 columns):\n",
      " #   Column   Non-Null Count  Dtype \n",
      "---  ------   --------------  ----- \n",
      " 0   key      3129 non-null   int64 \n",
      " 1   Bulk 1   252 non-null    object\n",
      " 2   Bulk 2   22 non-null     object\n",
      " 3   Bulk 3   1298 non-null   object\n",
      " 4   Bulk 4   1014 non-null   object\n",
      " 5   Bulk 5   77 non-null     object\n",
      " 6   Bulk 6   576 non-null    object\n",
      " 7   Bulk 7   25 non-null     object\n",
      " 8   Bulk 8   1 non-null      object\n",
      " 9   Bulk 9   19 non-null     object\n",
      " 10  Bulk 10  176 non-null    object\n",
      " 11  Bulk 11  177 non-null    object\n",
      " 12  Bulk 12  2450 non-null   object\n",
      " 13  Bulk 13  18 non-null     object\n",
      " 14  Bulk 14  2806 non-null   object\n",
      " 15  Bulk 15  2248 non-null   object\n",
      "dtypes: int64(1), object(15)\n",
      "memory usage: 391.2+ KB\n",
      "None\n",
      " \n",
      "                     Bulk 1               Bulk 2               Bulk 3  \\\n",
      "count                   252                   22                 1298   \n",
      "unique                  252                   22                 1298   \n",
      "top     2019-06-27 18:13:42  2019-08-08 08:44:52  2019-08-10 03:49:40   \n",
      "freq                      1                    1                    1   \n",
      "\n",
      "                     Bulk 4               Bulk 5               Bulk 6  \\\n",
      "count                  1014                   77                  576   \n",
      "unique                 1014                   77                  576   \n",
      "top     2019-07-08 03:23:40  2019-08-28 08:23:07  2019-05-14 23:25:54   \n",
      "freq                      1                    1                    1   \n",
      "\n",
      "                     Bulk 7               Bulk 8               Bulk 9  \\\n",
      "count                    25                    1                   19   \n",
      "unique                   25                    1                   19   \n",
      "top     2019-08-31 06:55:58  2019-07-05 17:46:11  2019-05-14 02:51:41   \n",
      "freq                      1                    1                    1   \n",
      "\n",
      "                    Bulk 10              Bulk 11              Bulk 12  \\\n",
      "count                   176                  177                 2450   \n",
      "unique                  176                  177                 2450   \n",
      "top     2019-08-24 03:43:54  2019-06-13 15:54:23  2019-07-24 07:17:07   \n",
      "freq                      1                    1                    1   \n",
      "\n",
      "                    Bulk 13              Bulk 14              Bulk 15  \n",
      "count                    18                 2806                 2248  \n",
      "unique                   18                 2806                 2248  \n",
      "top     2019-08-24 11:33:10  2019-07-09 23:20:34  2019-07-24 07:17:07  \n",
      "freq                      1                    1                    1  \n",
      " \n"
     ]
    }
   ],
   "source": [
    "data_view(bulk_delivery_time, add_hist=False)"
   ]
  },
  {
   "cell_type": "code",
   "execution_count": 12,
   "metadata": {},
   "outputs": [
    {
     "name": "stdout",
     "output_type": "stream",
     "text": [
      "<class 'pandas.core.frame.DataFrame'>\n",
      "RangeIndex: 3129 entries, 0 to 3128\n",
      "Data columns (total 16 columns):\n",
      " #   Column   Non-Null Count  Dtype         \n",
      "---  ------   --------------  -----         \n",
      " 0   key      3129 non-null   int64         \n",
      " 1   bulk_1   252 non-null    datetime64[ns]\n",
      " 2   bulk_2   22 non-null     datetime64[ns]\n",
      " 3   bulk_3   1298 non-null   datetime64[ns]\n",
      " 4   bulk_4   1014 non-null   datetime64[ns]\n",
      " 5   bulk_5   77 non-null     datetime64[ns]\n",
      " 6   bulk_6   576 non-null    datetime64[ns]\n",
      " 7   bulk_7   25 non-null     datetime64[ns]\n",
      " 8   bulk_8   1 non-null      datetime64[ns]\n",
      " 9   bulk_9   19 non-null     datetime64[ns]\n",
      " 10  bulk_10  176 non-null    datetime64[ns]\n",
      " 11  bulk_11  177 non-null    datetime64[ns]\n",
      " 12  bulk_12  2450 non-null   datetime64[ns]\n",
      " 13  bulk_13  18 non-null     datetime64[ns]\n",
      " 14  bulk_14  2806 non-null   datetime64[ns]\n",
      " 15  bulk_15  2248 non-null   datetime64[ns]\n",
      "dtypes: datetime64[ns](15), int64(1)\n",
      "memory usage: 391.2 KB\n"
     ]
    }
   ],
   "source": [
    "# convert Bulk # columns dtypes to datetime\n",
    "for i in bulk_delivery_time.columns[1:]:\n",
    "    bulk_delivery_time[i] = pd.to_datetime(bulk_delivery_time[i])\n",
    "\n",
    "# column names\n",
    "bulk_delivery_time.columns = convert_cols(bulk_delivery_time)\n",
    "\n",
    "bulk_delivery_time.info()"
   ]
  },
  {
   "cell_type": "markdown",
   "metadata": {},
   "source": [
    "#### Bulk Delivery Data Notes:\n",
    "- Nulls\n",
    "    - Many NaT values that will need to be aware of during any analysis\n",
    "- Dtypes\n",
    "    - Convrted all `Bulk #` dtypes to timestamp\n",
    "- Column Definitions\n",
    "    - `key` = batch number\n",
    "    - `Bulk #` = Bulk material delivery timestamp"
   ]
  },
  {
   "cell_type": "markdown",
   "metadata": {},
   "source": [
    "## Gas EDA\n",
    "---"
   ]
  },
  {
   "cell_type": "code",
   "execution_count": 13,
   "metadata": {},
   "outputs": [
    {
     "data": {
      "text/html": [
       "<div>\n",
       "<style scoped>\n",
       "    .dataframe tbody tr th:only-of-type {\n",
       "        vertical-align: middle;\n",
       "    }\n",
       "\n",
       "    .dataframe tbody tr th {\n",
       "        vertical-align: top;\n",
       "    }\n",
       "\n",
       "    .dataframe thead th {\n",
       "        text-align: right;\n",
       "    }\n",
       "</style>\n",
       "<table border=\"1\" class=\"dataframe\">\n",
       "  <thead>\n",
       "    <tr style=\"text-align: right;\">\n",
       "      <th></th>\n",
       "      <th>key</th>\n",
       "      <th>Gas 1</th>\n",
       "    </tr>\n",
       "  </thead>\n",
       "  <tbody>\n",
       "    <tr>\n",
       "      <th>0</th>\n",
       "      <td>1</td>\n",
       "      <td>29.749986</td>\n",
       "    </tr>\n",
       "    <tr>\n",
       "      <th>1</th>\n",
       "      <td>2</td>\n",
       "      <td>12.555561</td>\n",
       "    </tr>\n",
       "    <tr>\n",
       "      <th>2</th>\n",
       "      <td>3</td>\n",
       "      <td>28.554793</td>\n",
       "    </tr>\n",
       "    <tr>\n",
       "      <th>3</th>\n",
       "      <td>4</td>\n",
       "      <td>18.841219</td>\n",
       "    </tr>\n",
       "    <tr>\n",
       "      <th>4</th>\n",
       "      <td>5</td>\n",
       "      <td>5.413692</td>\n",
       "    </tr>\n",
       "  </tbody>\n",
       "</table>\n",
       "</div>"
      ],
      "text/plain": [
       "   key      Gas 1\n",
       "0    1  29.749986\n",
       "1    2  12.555561\n",
       "2    3  28.554793\n",
       "3    4  18.841219\n",
       "4    5   5.413692"
      ]
     },
     "metadata": {},
     "output_type": "display_data"
    },
    {
     "name": "stdout",
     "output_type": "stream",
     "text": [
      " \n",
      "<class 'pandas.core.frame.DataFrame'>\n",
      "RangeIndex: 3239 entries, 0 to 3238\n",
      "Data columns (total 2 columns):\n",
      " #   Column  Non-Null Count  Dtype  \n",
      "---  ------  --------------  -----  \n",
      " 0   key     3239 non-null   int64  \n",
      " 1   Gas 1   3239 non-null   float64\n",
      "dtypes: float64(1), int64(1)\n",
      "memory usage: 50.7 KB\n",
      "None\n",
      " \n",
      "             Gas 1\n",
      "count  3239.000000\n",
      "mean     11.002062\n",
      "std       6.220327\n",
      "min       0.008399\n",
      "25%       7.043089\n",
      "50%       9.836267\n",
      "75%      13.769915\n",
      "max      77.995040\n",
      " \n"
     ]
    },
    {
     "data": {
      "image/png": "[encoded data removed]",
      "text/plain": [
       "<Figure size 1440x720 with 1 Axes>"
      ]
     },
     "metadata": {
      "needs_background": "light"
     },
     "output_type": "display_data"
    }
   ],
   "source": [
    "data_view(gas)"
   ]
  },
  {
   "cell_type": "code",
   "execution_count": 14,
   "metadata": {},
   "outputs": [
    {
     "name": "stdout",
     "output_type": "stream",
     "text": [
      "<class 'pandas.core.frame.DataFrame'>\n",
      "RangeIndex: 3239 entries, 0 to 3238\n",
      "Data columns (total 2 columns):\n",
      " #   Column  Non-Null Count  Dtype  \n",
      "---  ------  --------------  -----  \n",
      " 0   key     3239 non-null   int64  \n",
      " 1   gas_1   3239 non-null   float64\n",
      "dtypes: float64(1), int64(1)\n",
      "memory usage: 50.7 KB\n"
     ]
    }
   ],
   "source": [
    "# column names\n",
    "gas.columns = convert_cols(gas)\n",
    "\n",
    "gas.info()"
   ]
  },
  {
   "cell_type": "markdown",
   "metadata": {},
   "source": [
    "#### Gas Data Notes:\n",
    "- Nulls\n",
    "    - No null values\n",
    "- Outliers\n",
    "    - Right skew in the gas data\n",
    "    - This seems normal to me since the amount of gas purged can variate and cannot be negative\n",
    "- Dtypes\n",
    "    - All correct\n",
    "- Column Definitions\n",
    "    - `key` = batch number\n",
    "    - `gas` = amount of gas purged in the batch"
   ]
  },
  {
   "cell_type": "markdown",
   "metadata": {},
   "source": [
    "## Temp EDA\n",
    "---"
   ]
  },
  {
   "cell_type": "code",
   "execution_count": 15,
   "metadata": {},
   "outputs": [
    {
     "data": {
      "text/html": [
       "<div>\n",
       "<style scoped>\n",
       "    .dataframe tbody tr th:only-of-type {\n",
       "        vertical-align: middle;\n",
       "    }\n",
       "\n",
       "    .dataframe tbody tr th {\n",
       "        vertical-align: top;\n",
       "    }\n",
       "\n",
       "    .dataframe thead th {\n",
       "        text-align: right;\n",
       "    }\n",
       "</style>\n",
       "<table border=\"1\" class=\"dataframe\">\n",
       "  <thead>\n",
       "    <tr style=\"text-align: right;\">\n",
       "      <th></th>\n",
       "      <th>key</th>\n",
       "      <th>Sampling time</th>\n",
       "      <th>Temperature</th>\n",
       "    </tr>\n",
       "  </thead>\n",
       "  <tbody>\n",
       "    <tr>\n",
       "      <th>0</th>\n",
       "      <td>1</td>\n",
       "      <td>2019-05-03 11:16:18</td>\n",
       "      <td>1571.0</td>\n",
       "    </tr>\n",
       "    <tr>\n",
       "      <th>1</th>\n",
       "      <td>1</td>\n",
       "      <td>2019-05-03 11:25:53</td>\n",
       "      <td>1604.0</td>\n",
       "    </tr>\n",
       "    <tr>\n",
       "      <th>2</th>\n",
       "      <td>1</td>\n",
       "      <td>2019-05-03 11:29:11</td>\n",
       "      <td>1618.0</td>\n",
       "    </tr>\n",
       "    <tr>\n",
       "      <th>3</th>\n",
       "      <td>1</td>\n",
       "      <td>2019-05-03 11:30:01</td>\n",
       "      <td>1601.0</td>\n",
       "    </tr>\n",
       "    <tr>\n",
       "      <th>4</th>\n",
       "      <td>1</td>\n",
       "      <td>2019-05-03 11:30:39</td>\n",
       "      <td>1613.0</td>\n",
       "    </tr>\n",
       "  </tbody>\n",
       "</table>\n",
       "</div>"
      ],
      "text/plain": [
       "   key        Sampling time  Temperature\n",
       "0    1  2019-05-03 11:16:18       1571.0\n",
       "1    1  2019-05-03 11:25:53       1604.0\n",
       "2    1  2019-05-03 11:29:11       1618.0\n",
       "3    1  2019-05-03 11:30:01       1601.0\n",
       "4    1  2019-05-03 11:30:39       1613.0"
      ]
     },
     "metadata": {},
     "output_type": "display_data"
    },
    {
     "name": "stdout",
     "output_type": "stream",
     "text": [
      " \n",
      "<class 'pandas.core.frame.DataFrame'>\n",
      "RangeIndex: 15907 entries, 0 to 15906\n",
      "Data columns (total 3 columns):\n",
      " #   Column         Non-Null Count  Dtype  \n",
      "---  ------         --------------  -----  \n",
      " 0   key            15907 non-null  int64  \n",
      " 1   Sampling time  15907 non-null  object \n",
      " 2   Temperature    13006 non-null  float64\n",
      "dtypes: float64(1), int64(1), object(1)\n",
      "memory usage: 372.9+ KB\n",
      "None\n",
      " \n",
      "        Temperature\n",
      "count  13006.000000\n",
      "mean    1591.840920\n",
      "std       21.375851\n",
      "min     1191.000000\n",
      "25%     1581.000000\n",
      "50%     1591.000000\n",
      "75%     1601.000000\n",
      "max     1705.000000\n",
      " \n"
     ]
    },
    {
     "data": {
      "image/png": "[encoded data removed]",
      "text/plain": [
       "<Figure size 1440x720 with 1 Axes>"
      ]
     },
     "metadata": {
      "needs_background": "light"
     },
     "output_type": "display_data"
    }
   ],
   "source": [
    "data_view(temp)"
   ]
  },
  {
   "cell_type": "code",
   "execution_count": 16,
   "metadata": {},
   "outputs": [
    {
     "data": {
      "text/plain": [
       "2901"
      ]
     },
     "execution_count": 16,
     "metadata": {},
     "output_type": "execute_result"
    }
   ],
   "source": [
    "temp_nans = temp[temp['Temperature'].isna()]\n",
    "len(temp_nans)"
   ]
  },
  {
   "cell_type": "code",
   "execution_count": 17,
   "metadata": {},
   "outputs": [
    {
     "name": "stdout",
     "output_type": "stream",
     "text": [
      "<class 'pandas.core.frame.DataFrame'>\n",
      "RangeIndex: 15907 entries, 0 to 15906\n",
      "Data columns (total 3 columns):\n",
      " #   Column         Non-Null Count  Dtype         \n",
      "---  ------         --------------  -----         \n",
      " 0   key            15907 non-null  int64         \n",
      " 1   sampling_time  15907 non-null  datetime64[ns]\n",
      " 2   temperature    13006 non-null  float64       \n",
      "dtypes: datetime64[ns](1), float64(1), int64(1)\n",
      "memory usage: 372.9 KB\n"
     ]
    }
   ],
   "source": [
    "# convert 'sampling time' dtype to timestamp\n",
    "temp['Sampling time'] = pd.to_datetime(temp['Sampling time'])\n",
    "\n",
    "# column names\n",
    "temp.columns = convert_cols(temp)\n",
    "\n",
    "# 2901 Nulls in temperature columns (new dfs with Nulls as zeros and Nulls dropped)\n",
    "temp_temp = temp.copy()\n",
    "temp_zero = temp_temp.fillna(0)\n",
    "temp_no_nulls = temp_temp.dropna()\n",
    "\n",
    "temp.info()"
   ]
  },
  {
   "cell_type": "code",
   "execution_count": 18,
   "metadata": {},
   "outputs": [
    {
     "data": {
      "text/plain": [
       "741"
      ]
     },
     "execution_count": 18,
     "metadata": {},
     "output_type": "execute_result"
    }
   ],
   "source": [
    "sum(temp_no_nulls['key'].value_counts() == 1)"
   ]
  },
  {
   "cell_type": "markdown",
   "metadata": {},
   "source": [
    "**Seeing that there are 741 Keys with only one temperature, they should be dropped**"
   ]
  },
  {
   "cell_type": "code",
   "execution_count": 19,
   "metadata": {},
   "outputs": [
    {
     "data": {
      "text/plain": [
       "2"
      ]
     },
     "execution_count": 19,
     "metadata": {},
     "output_type": "execute_result"
    }
   ],
   "source": [
    "counts = temp_no_nulls['key'].value_counts()\n",
    "\n",
    "temp_no_nulls = temp_no_nulls[temp_no_nulls['key'].isin(counts[counts > 1].index)]\n",
    "temp_no_nulls['key'].value_counts().min()"
   ]
  },
  {
   "cell_type": "markdown",
   "metadata": {},
   "source": [
    "#### Temp Data Notes:\n",
    "- Nulls\n",
    "    - 2901 Nulls in temperature columns\n",
    "    - Made two new dfs where nulls were dropped or converted to 0's\n",
    "- Outliers\n",
    "    - Nothing too notable\n",
    "    - Rather normal distribution with mean and median nearly equal\n",
    "- Dtypes\n",
    "    - Converted 'sampling_time' to datetime\n",
    "- Column Definitions\n",
    "    - `key` = batch number\n",
    "    - `sampling_time` = timestamp of when the temperature was taken for that batch\n",
    "    - `temperature` = temperature of the batch **(units not specified)**"
   ]
  },
  {
   "cell_type": "markdown",
   "metadata": {},
   "source": [
    "## Wire Volume EDA\n",
    "---"
   ]
  },
  {
   "cell_type": "code",
   "execution_count": 20,
   "metadata": {},
   "outputs": [
    {
     "data": {
      "text/html": [
       "<div>\n",
       "<style scoped>\n",
       "    .dataframe tbody tr th:only-of-type {\n",
       "        vertical-align: middle;\n",
       "    }\n",
       "\n",
       "    .dataframe tbody tr th {\n",
       "        vertical-align: top;\n",
       "    }\n",
       "\n",
       "    .dataframe thead th {\n",
       "        text-align: right;\n",
       "    }\n",
       "</style>\n",
       "<table border=\"1\" class=\"dataframe\">\n",
       "  <thead>\n",
       "    <tr style=\"text-align: right;\">\n",
       "      <th></th>\n",
       "      <th>key</th>\n",
       "      <th>Wire 1</th>\n",
       "      <th>Wire 2</th>\n",
       "      <th>Wire 3</th>\n",
       "      <th>Wire 4</th>\n",
       "      <th>Wire 5</th>\n",
       "      <th>Wire 6</th>\n",
       "      <th>Wire 7</th>\n",
       "      <th>Wire 8</th>\n",
       "      <th>Wire 9</th>\n",
       "    </tr>\n",
       "  </thead>\n",
       "  <tbody>\n",
       "    <tr>\n",
       "      <th>0</th>\n",
       "      <td>1</td>\n",
       "      <td>60.059998</td>\n",
       "      <td>NaN</td>\n",
       "      <td>NaN</td>\n",
       "      <td>NaN</td>\n",
       "      <td>NaN</td>\n",
       "      <td>NaN</td>\n",
       "      <td>NaN</td>\n",
       "      <td>NaN</td>\n",
       "      <td>NaN</td>\n",
       "    </tr>\n",
       "    <tr>\n",
       "      <th>1</th>\n",
       "      <td>2</td>\n",
       "      <td>96.052315</td>\n",
       "      <td>NaN</td>\n",
       "      <td>NaN</td>\n",
       "      <td>NaN</td>\n",
       "      <td>NaN</td>\n",
       "      <td>NaN</td>\n",
       "      <td>NaN</td>\n",
       "      <td>NaN</td>\n",
       "      <td>NaN</td>\n",
       "    </tr>\n",
       "    <tr>\n",
       "      <th>2</th>\n",
       "      <td>3</td>\n",
       "      <td>91.160157</td>\n",
       "      <td>NaN</td>\n",
       "      <td>NaN</td>\n",
       "      <td>NaN</td>\n",
       "      <td>NaN</td>\n",
       "      <td>NaN</td>\n",
       "      <td>NaN</td>\n",
       "      <td>NaN</td>\n",
       "      <td>NaN</td>\n",
       "    </tr>\n",
       "    <tr>\n",
       "      <th>3</th>\n",
       "      <td>4</td>\n",
       "      <td>89.063515</td>\n",
       "      <td>NaN</td>\n",
       "      <td>NaN</td>\n",
       "      <td>NaN</td>\n",
       "      <td>NaN</td>\n",
       "      <td>NaN</td>\n",
       "      <td>NaN</td>\n",
       "      <td>NaN</td>\n",
       "      <td>NaN</td>\n",
       "    </tr>\n",
       "    <tr>\n",
       "      <th>4</th>\n",
       "      <td>5</td>\n",
       "      <td>89.238236</td>\n",
       "      <td>9.11456</td>\n",
       "      <td>NaN</td>\n",
       "      <td>NaN</td>\n",
       "      <td>NaN</td>\n",
       "      <td>NaN</td>\n",
       "      <td>NaN</td>\n",
       "      <td>NaN</td>\n",
       "      <td>NaN</td>\n",
       "    </tr>\n",
       "  </tbody>\n",
       "</table>\n",
       "</div>"
      ],
      "text/plain": [
       "   key     Wire 1   Wire 2  Wire 3  Wire 4  Wire 5  Wire 6  Wire 7  Wire 8  \\\n",
       "0    1  60.059998      NaN     NaN     NaN     NaN     NaN     NaN     NaN   \n",
       "1    2  96.052315      NaN     NaN     NaN     NaN     NaN     NaN     NaN   \n",
       "2    3  91.160157      NaN     NaN     NaN     NaN     NaN     NaN     NaN   \n",
       "3    4  89.063515      NaN     NaN     NaN     NaN     NaN     NaN     NaN   \n",
       "4    5  89.238236  9.11456     NaN     NaN     NaN     NaN     NaN     NaN   \n",
       "\n",
       "   Wire 9  \n",
       "0     NaN  \n",
       "1     NaN  \n",
       "2     NaN  \n",
       "3     NaN  \n",
       "4     NaN  "
      ]
     },
     "metadata": {},
     "output_type": "display_data"
    },
    {
     "name": "stdout",
     "output_type": "stream",
     "text": [
      " \n",
      "<class 'pandas.core.frame.DataFrame'>\n",
      "RangeIndex: 3081 entries, 0 to 3080\n",
      "Data columns (total 10 columns):\n",
      " #   Column  Non-Null Count  Dtype  \n",
      "---  ------  --------------  -----  \n",
      " 0   key     3081 non-null   int64  \n",
      " 1   Wire 1  3055 non-null   float64\n",
      " 2   Wire 2  1079 non-null   float64\n",
      " 3   Wire 3  63 non-null     float64\n",
      " 4   Wire 4  14 non-null     float64\n",
      " 5   Wire 5  1 non-null      float64\n",
      " 6   Wire 6  73 non-null     float64\n",
      " 7   Wire 7  11 non-null     float64\n",
      " 8   Wire 8  19 non-null     float64\n",
      " 9   Wire 9  29 non-null     float64\n",
      "dtypes: float64(9), int64(1)\n",
      "memory usage: 240.8 KB\n",
      "None\n",
      " \n",
      "            Wire 1       Wire 2      Wire 3      Wire 4  Wire 5      Wire 6  \\\n",
      "count  3055.000000  1079.000000   63.000000   14.000000   1.000   73.000000   \n",
      "mean    100.895853    50.577323  189.482681   57.442842  15.132   48.016974   \n",
      "std      42.012518    39.320216   99.513444   28.824667     NaN   33.919845   \n",
      "min       1.918800     0.030160    0.144144   24.148801  15.132    0.034320   \n",
      "25%      72.115684    20.193680   95.135044   40.807002  15.132   25.053600   \n",
      "50%     100.158234    40.142956  235.194977   45.234282  15.132   42.076324   \n",
      "75%     126.060484    70.227558  276.252014   76.124619  15.132   64.212723   \n",
      "max     330.314424   282.780152  385.008668  113.231044  15.132  180.454575   \n",
      "\n",
      "          Wire 7      Wire 8     Wire 9  \n",
      "count  11.000000   19.000000  29.000000  \n",
      "mean   10.039007   53.625193  34.155752  \n",
      "std     8.610584   16.881728  19.931616  \n",
      "min     0.234208   45.076721   4.622800  \n",
      "25%     6.762756   46.094879  22.058401  \n",
      "50%     9.017009   46.279999  30.066399  \n",
      "75%    11.886057   48.089603  43.862003  \n",
      "max    32.847674  102.762401  90.053604  \n",
      " \n"
     ]
    },
    {
     "data": {
      "image/png": "[encoded data removed]",
      "text/plain": [
       "<Figure size 1440x720 with 9 Axes>"
      ]
     },
     "metadata": {
      "needs_background": "light"
     },
     "output_type": "display_data"
    }
   ],
   "source": [
    "data_view(wire_vol)"
   ]
  },
  {
   "cell_type": "code",
   "execution_count": 21,
   "metadata": {},
   "outputs": [
    {
     "data": {
      "text/html": [
       "<div>\n",
       "<style scoped>\n",
       "    .dataframe tbody tr th:only-of-type {\n",
       "        vertical-align: middle;\n",
       "    }\n",
       "\n",
       "    .dataframe tbody tr th {\n",
       "        vertical-align: top;\n",
       "    }\n",
       "\n",
       "    .dataframe thead th {\n",
       "        text-align: right;\n",
       "    }\n",
       "</style>\n",
       "<table border=\"1\" class=\"dataframe\">\n",
       "  <thead>\n",
       "    <tr style=\"text-align: right;\">\n",
       "      <th></th>\n",
       "      <th>key</th>\n",
       "      <th>wire_1</th>\n",
       "      <th>wire_2</th>\n",
       "      <th>wire_3</th>\n",
       "      <th>wire_4</th>\n",
       "      <th>wire_5</th>\n",
       "      <th>wire_6</th>\n",
       "      <th>wire_7</th>\n",
       "      <th>wire_8</th>\n",
       "      <th>wire_9</th>\n",
       "    </tr>\n",
       "  </thead>\n",
       "  <tbody>\n",
       "    <tr>\n",
       "      <th>0</th>\n",
       "      <td>1</td>\n",
       "      <td>60.059998</td>\n",
       "      <td>0.0</td>\n",
       "      <td>0.0</td>\n",
       "      <td>0.0</td>\n",
       "      <td>0.0</td>\n",
       "      <td>0.0</td>\n",
       "      <td>0.0</td>\n",
       "      <td>0.0</td>\n",
       "      <td>0.0</td>\n",
       "    </tr>\n",
       "    <tr>\n",
       "      <th>1</th>\n",
       "      <td>2</td>\n",
       "      <td>96.052315</td>\n",
       "      <td>0.0</td>\n",
       "      <td>0.0</td>\n",
       "      <td>0.0</td>\n",
       "      <td>0.0</td>\n",
       "      <td>0.0</td>\n",
       "      <td>0.0</td>\n",
       "      <td>0.0</td>\n",
       "      <td>0.0</td>\n",
       "    </tr>\n",
       "  </tbody>\n",
       "</table>\n",
       "</div>"
      ],
      "text/plain": [
       "   key     wire_1  wire_2  wire_3  wire_4  wire_5  wire_6  wire_7  wire_8  \\\n",
       "0    1  60.059998     0.0     0.0     0.0     0.0     0.0     0.0     0.0   \n",
       "1    2  96.052315     0.0     0.0     0.0     0.0     0.0     0.0     0.0   \n",
       "\n",
       "   wire_9  \n",
       "0     0.0  \n",
       "1     0.0  "
      ]
     },
     "execution_count": 21,
     "metadata": {},
     "output_type": "execute_result"
    }
   ],
   "source": [
    "# column names\n",
    "wire_vol.columns = convert_cols(wire_vol)\n",
    "\n",
    "# Converting Nulls to zeroes\n",
    "wire_vol_zero = wire_vol.copy()\n",
    "wire_vol_zero = wire_vol_zero.fillna(0)\n",
    "\n",
    "wire_vol_zero.head(2)"
   ]
  },
  {
   "cell_type": "markdown",
   "metadata": {},
   "source": [
    "#### Wire Volume Data Notes:\n",
    "- This is very similar to the Bulk volume data\n",
    "- Nulls\n",
    "    - There are numerous null values, but they make sense since each column represents the wire volume which sometimes may be zero\n",
    "    - I made a copy of the table to show null values as zeroes instead to be able to work with numeric values rather than null values\n",
    "- Outliers\n",
    "    - Each distribution for each bulk supply is different for each row/batch\n",
    "    - Can expect wildly different values for each Wire Volume\n",
    "- Dtypes\n",
    "    - All data types are correct\n",
    "- Column Definitions\n",
    "    - `key` = batch number\n",
    "    - `wire_#` = volume of the wire materials"
   ]
  },
  {
   "cell_type": "markdown",
   "metadata": {},
   "source": [
    "## Wire Time EDA\n",
    "---"
   ]
  },
  {
   "cell_type": "code",
   "execution_count": 22,
   "metadata": {},
   "outputs": [
    {
     "data": {
      "text/html": [
       "<div>\n",
       "<style scoped>\n",
       "    .dataframe tbody tr th:only-of-type {\n",
       "        vertical-align: middle;\n",
       "    }\n",
       "\n",
       "    .dataframe tbody tr th {\n",
       "        vertical-align: top;\n",
       "    }\n",
       "\n",
       "    .dataframe thead th {\n",
       "        text-align: right;\n",
       "    }\n",
       "</style>\n",
       "<table border=\"1\" class=\"dataframe\">\n",
       "  <thead>\n",
       "    <tr style=\"text-align: right;\">\n",
       "      <th></th>\n",
       "      <th>key</th>\n",
       "      <th>Wire 1</th>\n",
       "      <th>Wire 2</th>\n",
       "      <th>Wire 3</th>\n",
       "      <th>Wire 4</th>\n",
       "      <th>Wire 5</th>\n",
       "      <th>Wire 6</th>\n",
       "      <th>Wire 7</th>\n",
       "      <th>Wire 8</th>\n",
       "      <th>Wire 9</th>\n",
       "    </tr>\n",
       "  </thead>\n",
       "  <tbody>\n",
       "    <tr>\n",
       "      <th>0</th>\n",
       "      <td>1</td>\n",
       "      <td>2019-05-03 11:11:41</td>\n",
       "      <td>NaN</td>\n",
       "      <td>NaN</td>\n",
       "      <td>NaN</td>\n",
       "      <td>NaN</td>\n",
       "      <td>NaN</td>\n",
       "      <td>NaN</td>\n",
       "      <td>NaN</td>\n",
       "      <td>NaN</td>\n",
       "    </tr>\n",
       "    <tr>\n",
       "      <th>1</th>\n",
       "      <td>2</td>\n",
       "      <td>2019-05-03 11:46:10</td>\n",
       "      <td>NaN</td>\n",
       "      <td>NaN</td>\n",
       "      <td>NaN</td>\n",
       "      <td>NaN</td>\n",
       "      <td>NaN</td>\n",
       "      <td>NaN</td>\n",
       "      <td>NaN</td>\n",
       "      <td>NaN</td>\n",
       "    </tr>\n",
       "    <tr>\n",
       "      <th>2</th>\n",
       "      <td>3</td>\n",
       "      <td>2019-05-03 12:13:47</td>\n",
       "      <td>NaN</td>\n",
       "      <td>NaN</td>\n",
       "      <td>NaN</td>\n",
       "      <td>NaN</td>\n",
       "      <td>NaN</td>\n",
       "      <td>NaN</td>\n",
       "      <td>NaN</td>\n",
       "      <td>NaN</td>\n",
       "    </tr>\n",
       "    <tr>\n",
       "      <th>3</th>\n",
       "      <td>4</td>\n",
       "      <td>2019-05-03 12:48:05</td>\n",
       "      <td>NaN</td>\n",
       "      <td>NaN</td>\n",
       "      <td>NaN</td>\n",
       "      <td>NaN</td>\n",
       "      <td>NaN</td>\n",
       "      <td>NaN</td>\n",
       "      <td>NaN</td>\n",
       "      <td>NaN</td>\n",
       "    </tr>\n",
       "    <tr>\n",
       "      <th>4</th>\n",
       "      <td>5</td>\n",
       "      <td>2019-05-03 13:18:15</td>\n",
       "      <td>2019-05-03 13:32:06</td>\n",
       "      <td>NaN</td>\n",
       "      <td>NaN</td>\n",
       "      <td>NaN</td>\n",
       "      <td>NaN</td>\n",
       "      <td>NaN</td>\n",
       "      <td>NaN</td>\n",
       "      <td>NaN</td>\n",
       "    </tr>\n",
       "  </tbody>\n",
       "</table>\n",
       "</div>"
      ],
      "text/plain": [
       "   key               Wire 1               Wire 2 Wire 3 Wire 4 Wire 5 Wire 6  \\\n",
       "0    1  2019-05-03 11:11:41                  NaN    NaN    NaN    NaN    NaN   \n",
       "1    2  2019-05-03 11:46:10                  NaN    NaN    NaN    NaN    NaN   \n",
       "2    3  2019-05-03 12:13:47                  NaN    NaN    NaN    NaN    NaN   \n",
       "3    4  2019-05-03 12:48:05                  NaN    NaN    NaN    NaN    NaN   \n",
       "4    5  2019-05-03 13:18:15  2019-05-03 13:32:06    NaN    NaN    NaN    NaN   \n",
       "\n",
       "  Wire 7 Wire 8 Wire 9  \n",
       "0    NaN    NaN    NaN  \n",
       "1    NaN    NaN    NaN  \n",
       "2    NaN    NaN    NaN  \n",
       "3    NaN    NaN    NaN  \n",
       "4    NaN    NaN    NaN  "
      ]
     },
     "metadata": {},
     "output_type": "display_data"
    },
    {
     "name": "stdout",
     "output_type": "stream",
     "text": [
      " \n",
      "<class 'pandas.core.frame.DataFrame'>\n",
      "RangeIndex: 3081 entries, 0 to 3080\n",
      "Data columns (total 10 columns):\n",
      " #   Column  Non-Null Count  Dtype \n",
      "---  ------  --------------  ----- \n",
      " 0   key     3081 non-null   int64 \n",
      " 1   Wire 1  3055 non-null   object\n",
      " 2   Wire 2  1079 non-null   object\n",
      " 3   Wire 3  63 non-null     object\n",
      " 4   Wire 4  14 non-null     object\n",
      " 5   Wire 5  1 non-null      object\n",
      " 6   Wire 6  73 non-null     object\n",
      " 7   Wire 7  11 non-null     object\n",
      " 8   Wire 8  19 non-null     object\n",
      " 9   Wire 9  29 non-null     object\n",
      "dtypes: int64(1), object(9)\n",
      "memory usage: 240.8+ KB\n",
      "None\n",
      " \n",
      "                     Wire 1               Wire 2               Wire 3  \\\n",
      "count                  3055                 1079                   63   \n",
      "unique                 3055                 1079                   63   \n",
      "top     2019-08-04 11:56:39  2019-07-22 12:57:18  2019-06-10 14:05:33   \n",
      "freq                      1                    1                    1   \n",
      "\n",
      "                     Wire 4               Wire 5               Wire 6  \\\n",
      "count                    14                    1                   73   \n",
      "unique                   14                    1                   73   \n",
      "top     2019-07-23 15:42:50  2019-08-08 16:01:07  2019-08-09 05:37:32   \n",
      "freq                      1                    1                    1   \n",
      "\n",
      "                     Wire 7               Wire 8               Wire 9  \n",
      "count                    11                   19                   29  \n",
      "unique                   11                   19                   29  \n",
      "top     2019-08-08 10:01:56  2019-07-05 17:34:22  2019-06-07 20:28:19  \n",
      "freq                      1                    1                    1  \n",
      " \n"
     ]
    }
   ],
   "source": [
    "data_view(wire_time, add_hist=False)"
   ]
  },
  {
   "cell_type": "code",
   "execution_count": 23,
   "metadata": {},
   "outputs": [
    {
     "name": "stdout",
     "output_type": "stream",
     "text": [
      "<class 'pandas.core.frame.DataFrame'>\n",
      "RangeIndex: 3081 entries, 0 to 3080\n",
      "Data columns (total 10 columns):\n",
      " #   Column  Non-Null Count  Dtype         \n",
      "---  ------  --------------  -----         \n",
      " 0   key     3081 non-null   int64         \n",
      " 1   wire_1  3055 non-null   datetime64[ns]\n",
      " 2   wire_2  1079 non-null   datetime64[ns]\n",
      " 3   wire_3  63 non-null     datetime64[ns]\n",
      " 4   wire_4  14 non-null     datetime64[ns]\n",
      " 5   wire_5  1 non-null      datetime64[ns]\n",
      " 6   wire_6  73 non-null     datetime64[ns]\n",
      " 7   wire_7  11 non-null     datetime64[ns]\n",
      " 8   wire_8  19 non-null     datetime64[ns]\n",
      " 9   wire_9  29 non-null     datetime64[ns]\n",
      "dtypes: datetime64[ns](9), int64(1)\n",
      "memory usage: 240.8 KB\n"
     ]
    }
   ],
   "source": [
    "# convert Wire # columns dtypes to datetime\n",
    "for i in wire_time.columns[1:]:\n",
    "    wire_time[i] = pd.to_datetime(wire_time[i])\n",
    "\n",
    "# column names\n",
    "wire_time.columns = convert_cols(wire_time)\n",
    "\n",
    "wire_time.info()"
   ]
  },
  {
   "cell_type": "markdown",
   "metadata": {},
   "source": [
    "#### Wire Time Data Notes:\n",
    "- This is very similar to the Bulk time data\n",
    "- Nulls\n",
    "    - Many NaT values that will need to be aware of during any analysis\n",
    "- Dtypes\n",
    "    - Converted all `Wire #` dtypes to timestamp\n",
    "- Column Definitions\n",
    "    - `key` = batch number\n",
    "    - `Wire #` = Wire feeder timestamp"
   ]
  },
  {
   "cell_type": "markdown",
   "metadata": {},
   "source": [
    "### Plan for solving the task\n",
    "\n",
    "1. Fully understand the task and gather all requirements from key stakeholders. Resolve any questions and remove any doubts.\n",
    "2. Aggregate and merge data as necessary into a single frame. I will create or drop features as I see fit.\n",
    "3. Split data into train, validate, and test. Test a handful of different models and select the best performing 3 based on preferred metric (to be confirmed by team leader)\n",
    "4. Fine tune the top models be tweaking parameters. When the final model is chosen, measure performance against the test set\n",
    "5. Prepare report including all necessary details with simple explanations and quality visuals. Keep in mind audience when completing the report."
   ]
  },
  {
   "cell_type": "markdown",
   "metadata": {},
   "source": [
    "## Combining the Data"
   ]
  },
  {
   "cell_type": "code",
   "execution_count": 24,
   "metadata": {},
   "outputs": [
    {
     "name": "stdout",
     "output_type": "stream",
     "text": [
      "   key  first_temp  target_temp  first_sample_weekday  first_sample_hour\n",
      "0    1      1571.0       1613.0                     4                 11\n",
      "1    2      1581.0       1602.0                     4                 11\n",
      "2    3      1596.0       1599.0                     4                 12\n",
      "3    4      1601.0       1625.0                     4                 12\n",
      "4    5      1576.0       1602.0                     4                 13\n",
      "Number of Rows: 2475\n",
      "\n",
      "   key  sum_active  sum_reactive\n",
      "0    1    4.878147      3.183241\n",
      "1    2    3.052598      1.998112\n",
      "2    3    2.525882      1.599076\n",
      "3    4    3.209250      2.060298\n",
      "4    5    3.347173      2.252643\n"
     ]
    }
   ],
   "source": [
    "# Grouping by key column in two of the datasets in order to merge data for training and testing\n",
    "temp_grouped = temp_no_nulls.groupby('key').agg({'sampling_time':'first',\n",
    "                                                 'temperature':['first', 'last']}).reset_index()\n",
    "temp_grouped = pd.DataFrame(temp_grouped)\n",
    "temp_grouped.columns = ['key', 'first_timestamp', 'first_temp', 'target_temp']\n",
    "\n",
    "# Extract day of week and hour from initial timestamp\n",
    "temp_grouped['first_sample_weekday'] = temp_grouped['first_timestamp'].dt.dayofweek\n",
    "temp_grouped['first_sample_hour'] = temp_grouped['first_timestamp'].dt.hour\n",
    "\n",
    "temp_grouped = temp_grouped.drop('first_timestamp', axis=1)\n",
    "\n",
    "print(temp_grouped.head())\n",
    "print('Number of Rows:', len(temp_grouped))\n",
    "print('')\n",
    "\n",
    "electrode_grouped = electrode[['key', 'active_power', 'reactive_power']].groupby('key').sum().reset_index()\n",
    "electrode_grouped = pd.DataFrame(electrode_grouped)\n",
    "electrode_grouped.columns = ['key', 'sum_active', 'sum_reactive']\n",
    "\n",
    "print(electrode_grouped.head())"
   ]
  },
  {
   "cell_type": "code",
   "execution_count": 25,
   "metadata": {},
   "outputs": [
    {
     "data": {
      "text/html": [
       "<div>\n",
       "<style scoped>\n",
       "    .dataframe tbody tr th:only-of-type {\n",
       "        vertical-align: middle;\n",
       "    }\n",
       "\n",
       "    .dataframe tbody tr th {\n",
       "        vertical-align: top;\n",
       "    }\n",
       "\n",
       "    .dataframe thead th {\n",
       "        text-align: right;\n",
       "    }\n",
       "</style>\n",
       "<table border=\"1\" class=\"dataframe\">\n",
       "  <thead>\n",
       "    <tr style=\"text-align: right;\">\n",
       "      <th></th>\n",
       "      <th>key</th>\n",
       "      <th>first_temp</th>\n",
       "      <th>target_temp</th>\n",
       "      <th>first_sample_weekday</th>\n",
       "      <th>first_sample_hour</th>\n",
       "      <th>sum_active</th>\n",
       "      <th>sum_reactive</th>\n",
       "      <th>gas_1</th>\n",
       "      <th>bulk_1</th>\n",
       "      <th>bulk_2</th>\n",
       "      <th>...</th>\n",
       "      <th>bulk_15</th>\n",
       "      <th>wire_1</th>\n",
       "      <th>wire_2</th>\n",
       "      <th>wire_3</th>\n",
       "      <th>wire_4</th>\n",
       "      <th>wire_5</th>\n",
       "      <th>wire_6</th>\n",
       "      <th>wire_7</th>\n",
       "      <th>wire_8</th>\n",
       "      <th>wire_9</th>\n",
       "    </tr>\n",
       "  </thead>\n",
       "  <tbody>\n",
       "    <tr>\n",
       "      <th>0</th>\n",
       "      <td>1</td>\n",
       "      <td>1571.0</td>\n",
       "      <td>1613.0</td>\n",
       "      <td>4</td>\n",
       "      <td>11</td>\n",
       "      <td>4.878147</td>\n",
       "      <td>3.183241</td>\n",
       "      <td>29.749986</td>\n",
       "      <td>NaN</td>\n",
       "      <td>NaN</td>\n",
       "      <td>...</td>\n",
       "      <td>154.0</td>\n",
       "      <td>60.059998</td>\n",
       "      <td>NaN</td>\n",
       "      <td>NaN</td>\n",
       "      <td>NaN</td>\n",
       "      <td>NaN</td>\n",
       "      <td>NaN</td>\n",
       "      <td>NaN</td>\n",
       "      <td>NaN</td>\n",
       "      <td>NaN</td>\n",
       "    </tr>\n",
       "    <tr>\n",
       "      <th>1</th>\n",
       "      <td>2</td>\n",
       "      <td>1581.0</td>\n",
       "      <td>1602.0</td>\n",
       "      <td>4</td>\n",
       "      <td>11</td>\n",
       "      <td>3.052598</td>\n",
       "      <td>1.998112</td>\n",
       "      <td>12.555561</td>\n",
       "      <td>NaN</td>\n",
       "      <td>NaN</td>\n",
       "      <td>...</td>\n",
       "      <td>154.0</td>\n",
       "      <td>96.052315</td>\n",
       "      <td>NaN</td>\n",
       "      <td>NaN</td>\n",
       "      <td>NaN</td>\n",
       "      <td>NaN</td>\n",
       "      <td>NaN</td>\n",
       "      <td>NaN</td>\n",
       "      <td>NaN</td>\n",
       "      <td>NaN</td>\n",
       "    </tr>\n",
       "  </tbody>\n",
       "</table>\n",
       "<p>2 rows × 32 columns</p>\n",
       "</div>"
      ],
      "text/plain": [
       "   key  first_temp  target_temp  first_sample_weekday  first_sample_hour  \\\n",
       "0    1      1571.0       1613.0                     4                 11   \n",
       "1    2      1581.0       1602.0                     4                 11   \n",
       "\n",
       "   sum_active  sum_reactive      gas_1  bulk_1  bulk_2  ...  bulk_15  \\\n",
       "0    4.878147      3.183241  29.749986     NaN     NaN  ...    154.0   \n",
       "1    3.052598      1.998112  12.555561     NaN     NaN  ...    154.0   \n",
       "\n",
       "      wire_1  wire_2  wire_3  wire_4  wire_5  wire_6  wire_7  wire_8  wire_9  \n",
       "0  60.059998     NaN     NaN     NaN     NaN     NaN     NaN     NaN     NaN  \n",
       "1  96.052315     NaN     NaN     NaN     NaN     NaN     NaN     NaN     NaN  \n",
       "\n",
       "[2 rows x 32 columns]"
      ]
     },
     "metadata": {},
     "output_type": "display_data"
    },
    {
     "name": "stdout",
     "output_type": "stream",
     "text": [
      "<class 'pandas.core.frame.DataFrame'>\n",
      "Int64Index: 2475 entries, 0 to 2474\n",
      "Data columns (total 32 columns):\n",
      " #   Column                Non-Null Count  Dtype  \n",
      "---  ------                --------------  -----  \n",
      " 0   key                   2475 non-null   int64  \n",
      " 1   first_temp            2475 non-null   float64\n",
      " 2   target_temp           2475 non-null   float64\n",
      " 3   first_sample_weekday  2475 non-null   int64  \n",
      " 4   first_sample_hour     2475 non-null   int64  \n",
      " 5   sum_active            2475 non-null   float64\n",
      " 6   sum_reactive          2475 non-null   float64\n",
      " 7   gas_1                 2473 non-null   float64\n",
      " 8   bulk_1                199 non-null    float64\n",
      " 9   bulk_2                13 non-null     float64\n",
      " 10  bulk_3                965 non-null    float64\n",
      " 11  bulk_4                814 non-null    float64\n",
      " 12  bulk_5                53 non-null     float64\n",
      " 13  bulk_6                443 non-null    float64\n",
      " 14  bulk_7                14 non-null     float64\n",
      " 15  bulk_8                1 non-null      float64\n",
      " 16  bulk_9                13 non-null     float64\n",
      " 17  bulk_10               143 non-null    float64\n",
      " 18  bulk_11               130 non-null    float64\n",
      " 19  bulk_12               1882 non-null   float64\n",
      " 20  bulk_13               14 non-null     float64\n",
      " 21  bulk_14               2137 non-null   float64\n",
      " 22  bulk_15               1713 non-null   float64\n",
      " 23  wire_1                2348 non-null   float64\n",
      " 24  wire_2                833 non-null    float64\n",
      " 25  wire_3                39 non-null     float64\n",
      " 26  wire_4                12 non-null     float64\n",
      " 27  wire_5                0 non-null      float64\n",
      " 28  wire_6                45 non-null     float64\n",
      " 29  wire_7                4 non-null      float64\n",
      " 30  wire_8                13 non-null     float64\n",
      " 31  wire_9                28 non-null     float64\n",
      "dtypes: float64(29), int64(3)\n",
      "memory usage: 638.1 KB\n",
      "None\n"
     ]
    }
   ],
   "source": [
    "# Merge desired columns into one df\n",
    "df = (temp_grouped.merge(electrode_grouped, how = 'left', on = 'key')\n",
    "                 .merge(gas, how = 'left', on = 'key')\n",
    "                 .merge(bulk_supply_vol, how = 'left', on = 'key')\n",
    "                 .merge(wire_vol, how = 'left', on = 'key')\n",
    "       )\n",
    "\n",
    "df_zero = (temp_grouped.merge(electrode_grouped, how = 'left', on = 'key')\n",
    "                 .merge(gas, how = 'left', on = 'key')\n",
    "                 .merge(bulk_supply_vol_zero, how = 'left', on = 'key')\n",
    "                 .merge(wire_vol_zero, how = 'left', on = 'key'))\n",
    "\n",
    "df = pd.DataFrame(df)\n",
    "\n",
    "display(df.head(2))\n",
    "print(df.info())"
   ]
  },
  {
   "cell_type": "markdown",
   "metadata": {},
   "source": [
    "**Looking at this data I can drop the columns with a single non-null datapoint since it will likely have an adverse effect on my models.**"
   ]
  },
  {
   "cell_type": "code",
   "execution_count": 26,
   "metadata": {},
   "outputs": [
    {
     "data": {
      "text/html": [
       "<div>\n",
       "<style scoped>\n",
       "    .dataframe tbody tr th:only-of-type {\n",
       "        vertical-align: middle;\n",
       "    }\n",
       "\n",
       "    .dataframe tbody tr th {\n",
       "        vertical-align: top;\n",
       "    }\n",
       "\n",
       "    .dataframe thead th {\n",
       "        text-align: right;\n",
       "    }\n",
       "</style>\n",
       "<table border=\"1\" class=\"dataframe\">\n",
       "  <thead>\n",
       "    <tr style=\"text-align: right;\">\n",
       "      <th></th>\n",
       "      <th>key</th>\n",
       "      <th>first_temp</th>\n",
       "      <th>target_temp</th>\n",
       "      <th>first_sample_weekday</th>\n",
       "      <th>first_sample_hour</th>\n",
       "      <th>sum_active</th>\n",
       "      <th>sum_reactive</th>\n",
       "      <th>gas_1</th>\n",
       "      <th>bulk_1</th>\n",
       "      <th>bulk_2</th>\n",
       "      <th>...</th>\n",
       "      <th>bulk_14</th>\n",
       "      <th>bulk_15</th>\n",
       "      <th>wire_1</th>\n",
       "      <th>wire_2</th>\n",
       "      <th>wire_3</th>\n",
       "      <th>wire_4</th>\n",
       "      <th>wire_6</th>\n",
       "      <th>wire_7</th>\n",
       "      <th>wire_8</th>\n",
       "      <th>wire_9</th>\n",
       "    </tr>\n",
       "  </thead>\n",
       "  <tbody>\n",
       "    <tr>\n",
       "      <th>0</th>\n",
       "      <td>1</td>\n",
       "      <td>1571.0</td>\n",
       "      <td>1613.0</td>\n",
       "      <td>4</td>\n",
       "      <td>11</td>\n",
       "      <td>4.878147</td>\n",
       "      <td>3.183241</td>\n",
       "      <td>29.749986</td>\n",
       "      <td>0.0</td>\n",
       "      <td>0.0</td>\n",
       "      <td>...</td>\n",
       "      <td>150.0</td>\n",
       "      <td>154.0</td>\n",
       "      <td>60.059998</td>\n",
       "      <td>0.0</td>\n",
       "      <td>0.0</td>\n",
       "      <td>0.0</td>\n",
       "      <td>0.0</td>\n",
       "      <td>0.0</td>\n",
       "      <td>0.0</td>\n",
       "      <td>0.0</td>\n",
       "    </tr>\n",
       "    <tr>\n",
       "      <th>1</th>\n",
       "      <td>2</td>\n",
       "      <td>1581.0</td>\n",
       "      <td>1602.0</td>\n",
       "      <td>4</td>\n",
       "      <td>11</td>\n",
       "      <td>3.052598</td>\n",
       "      <td>1.998112</td>\n",
       "      <td>12.555561</td>\n",
       "      <td>0.0</td>\n",
       "      <td>0.0</td>\n",
       "      <td>...</td>\n",
       "      <td>149.0</td>\n",
       "      <td>154.0</td>\n",
       "      <td>96.052315</td>\n",
       "      <td>0.0</td>\n",
       "      <td>0.0</td>\n",
       "      <td>0.0</td>\n",
       "      <td>0.0</td>\n",
       "      <td>0.0</td>\n",
       "      <td>0.0</td>\n",
       "      <td>0.0</td>\n",
       "    </tr>\n",
       "  </tbody>\n",
       "</table>\n",
       "<p>2 rows × 30 columns</p>\n",
       "</div>"
      ],
      "text/plain": [
       "   key  first_temp  target_temp  first_sample_weekday  first_sample_hour  \\\n",
       "0    1      1571.0       1613.0                     4                 11   \n",
       "1    2      1581.0       1602.0                     4                 11   \n",
       "\n",
       "   sum_active  sum_reactive      gas_1  bulk_1  bulk_2  ...  bulk_14  bulk_15  \\\n",
       "0    4.878147      3.183241  29.749986     0.0     0.0  ...    150.0    154.0   \n",
       "1    3.052598      1.998112  12.555561     0.0     0.0  ...    149.0    154.0   \n",
       "\n",
       "      wire_1  wire_2  wire_3  wire_4  wire_6  wire_7  wire_8  wire_9  \n",
       "0  60.059998     0.0     0.0     0.0     0.0     0.0     0.0     0.0  \n",
       "1  96.052315     0.0     0.0     0.0     0.0     0.0     0.0     0.0  \n",
       "\n",
       "[2 rows x 30 columns]"
      ]
     },
     "metadata": {},
     "output_type": "display_data"
    },
    {
     "name": "stdout",
     "output_type": "stream",
     "text": [
      "<class 'pandas.core.frame.DataFrame'>\n",
      "Int64Index: 2329 entries, 0 to 2474\n",
      "Data columns (total 30 columns):\n",
      " #   Column                Non-Null Count  Dtype  \n",
      "---  ------                --------------  -----  \n",
      " 0   key                   2329 non-null   int64  \n",
      " 1   first_temp            2329 non-null   float64\n",
      " 2   target_temp           2329 non-null   float64\n",
      " 3   first_sample_weekday  2329 non-null   int64  \n",
      " 4   first_sample_hour     2329 non-null   int64  \n",
      " 5   sum_active            2329 non-null   float64\n",
      " 6   sum_reactive          2329 non-null   float64\n",
      " 7   gas_1                 2329 non-null   float64\n",
      " 8   bulk_1                2329 non-null   float64\n",
      " 9   bulk_2                2329 non-null   float64\n",
      " 10  bulk_3                2329 non-null   float64\n",
      " 11  bulk_4                2329 non-null   float64\n",
      " 12  bulk_5                2329 non-null   float64\n",
      " 13  bulk_6                2329 non-null   float64\n",
      " 14  bulk_7                2329 non-null   float64\n",
      " 15  bulk_9                2329 non-null   float64\n",
      " 16  bulk_10               2329 non-null   float64\n",
      " 17  bulk_11               2329 non-null   float64\n",
      " 18  bulk_12               2329 non-null   float64\n",
      " 19  bulk_13               2329 non-null   float64\n",
      " 20  bulk_14               2329 non-null   float64\n",
      " 21  bulk_15               2329 non-null   float64\n",
      " 22  wire_1                2329 non-null   float64\n",
      " 23  wire_2                2329 non-null   float64\n",
      " 24  wire_3                2329 non-null   float64\n",
      " 25  wire_4                2329 non-null   float64\n",
      " 26  wire_6                2329 non-null   float64\n",
      " 27  wire_7                2329 non-null   float64\n",
      " 28  wire_8                2329 non-null   float64\n",
      " 29  wire_9                2329 non-null   float64\n",
      "dtypes: float64(27), int64(3)\n",
      "memory usage: 564.1 KB\n",
      "None\n"
     ]
    }
   ],
   "source": [
    "# Remove columns with a single non-null value\n",
    "df_zero = df_zero.drop(['bulk_8', 'wire_5'], axis=1)\n",
    "\n",
    "data = pd.DataFrame(df_zero).dropna()\n",
    "display(data.head(2))\n",
    "print(data.info())"
   ]
  },
  {
   "cell_type": "markdown",
   "metadata": {},
   "source": [
    "**Highest correlated Variables**"
   ]
  },
  {
   "cell_type": "code",
   "execution_count": 27,
   "metadata": {},
   "outputs": [
    {
     "data": {
      "text/plain": [
       "wire_1          0.317575\n",
       "sum_active      0.290434\n",
       "bulk_12         0.267424\n",
       "bulk_15         0.266414\n",
       "first_temp      0.252443\n",
       "sum_reactive    0.240980\n",
       "bulk_4          0.187970\n",
       "bulk_14         0.114617\n",
       "bulk_10         0.061350\n",
       "gas_1           0.059160\n",
       "Name: target_temp, dtype: float64"
      ]
     },
     "metadata": {},
     "output_type": "display_data"
    }
   ],
   "source": [
    "display(data.corr()['target_temp'].sort_values(ascending=False)[1:11])"
   ]
  },
  {
   "cell_type": "markdown",
   "metadata": {},
   "source": [
    "## Model Building\n",
    "---"
   ]
  },
  {
   "cell_type": "code",
   "execution_count": 28,
   "metadata": {},
   "outputs": [
    {
     "name": "stdout",
     "output_type": "stream",
     "text": [
      "(1397, 29)\n",
      "(1397,)\n",
      "(466, 29)\n",
      "(466,)\n",
      "(466, 29)\n",
      "(466,)\n"
     ]
    }
   ],
   "source": [
    "# Split Data\n",
    "train, v = train_test_split(data, test_size=0.4, random_state=123)\n",
    "val, test = train_test_split(v, test_size=0.5, random_state=123)\n",
    "\n",
    "# Separate Target column (last_temp)\n",
    "x_train = train.drop('target_temp', axis=1)\n",
    "y_train = train['target_temp']\n",
    "\n",
    "x_val = val.drop('target_temp', axis=1)\n",
    "y_val = val['target_temp']\n",
    "\n",
    "x_test = test.drop('target_temp', axis=1)\n",
    "y_test = test['target_temp']\n",
    "\n",
    "print(x_train.shape)\n",
    "print(y_train.shape)\n",
    "print(x_val.shape)\n",
    "print(y_val.shape)\n",
    "print(x_test.shape)\n",
    "print(y_test.shape)"
   ]
  },
  {
   "cell_type": "code",
   "execution_count": 29,
   "metadata": {},
   "outputs": [],
   "source": [
    "# Feature Scaling\n",
    "scaler = MinMaxScaler()\n",
    "scaler.fit(x_train)\n",
    "\n",
    "x_train = scaler.transform(x_train)\n",
    "x_val = scaler.transform(x_val)\n",
    "x_test = scaler.transform(x_test)"
   ]
  },
  {
   "cell_type": "markdown",
   "metadata": {},
   "source": [
    "## Base Models\n",
    "- Test initial models with cross validation"
   ]
  },
  {
   "cell_type": "code",
   "execution_count": 30,
   "metadata": {},
   "outputs": [],
   "source": [
    "def init_cross_val(model_class, x=x_train, y=y_train):\n",
    "    model = model_class\n",
    "    cv_score = cross_val_score(model, X=x, y=y, scoring='neg_mean_absolute_error', cv=10)\n",
    "    return model, cv_score\n",
    "\n",
    "def show_scores(score):\n",
    "    print('Scores:', -score)\n",
    "    print('Mean:', -np.mean(score))"
   ]
  },
  {
   "cell_type": "code",
   "execution_count": 31,
   "metadata": {},
   "outputs": [
    {
     "name": "stdout",
     "output_type": "stream",
     "text": [
      "Scores: [5.9180176  5.95869367 6.99035677 8.05532312 6.36323051 6.089749\n",
      " 5.86352114 7.37129597 6.02690546 6.70424345]\n",
      "Mean: 6.534133669144057\n"
     ]
    }
   ],
   "source": [
    "# Linear Regression\n",
    "\n",
    "lin, lin_score = init_cross_val(LinearRegression())\n",
    "\n",
    "show_scores(lin_score)"
   ]
  },
  {
   "cell_type": "code",
   "execution_count": 32,
   "metadata": {},
   "outputs": [
    {
     "name": "stderr",
     "output_type": "stream",
     "text": [
      "/Users/Ty/opt/anaconda3/lib/python3.7/site-packages/sklearn/model_selection/_split.py:667: UserWarning: The least populated class in y has only 1 members, which is less than n_splits=10.\n",
      "  % (min_groups, self.n_splits)), UserWarning)\n"
     ]
    },
    {
     "name": "stdout",
     "output_type": "stream",
     "text": [
      "Scores: [7.48571429 8.18571429 8.42857143 8.65       8.13571429 8.02857143\n",
      " 8.1        7.61151079 8.24460432 7.91366906]\n",
      "Mean: 8.078406988694757\n"
     ]
    }
   ],
   "source": [
    "# Logistic Regression\n",
    "\n",
    "log, log_score = init_cross_val(LogisticRegression(solver='liblinear', random_state=123))\n",
    "\n",
    "show_scores(log_score)"
   ]
  },
  {
   "cell_type": "code",
   "execution_count": 33,
   "metadata": {},
   "outputs": [
    {
     "name": "stdout",
     "output_type": "stream",
     "text": [
      "Scores: [6.1695     5.33321429 6.27885714 6.66921429 5.85607143 5.61042857\n",
      " 5.83371429 7.15877698 5.59071942 6.51733813]\n",
      "Mean: 6.101783453237411\n"
     ]
    }
   ],
   "source": [
    "# Random Forest\n",
    "\n",
    "rf, rf_score = init_cross_val(RandomForestRegressor(random_state=123))\n",
    "\n",
    "show_scores(rf_score)"
   ]
  },
  {
   "cell_type": "code",
   "execution_count": 34,
   "metadata": {},
   "outputs": [
    {
     "name": "stdout",
     "output_type": "stream",
     "text": [
      "Scores: [5.91774205 5.46670968 5.84543806 6.94195382 6.11937866 5.83753924\n",
      " 5.72624337 7.10100221 5.78397682 6.22823811]\n",
      "Mean: 6.096822202394335\n"
     ]
    }
   ],
   "source": [
    "# XGBoost\n",
    "\n",
    "xgb, xgb_score = init_cross_val(xgb.XGBRegressor(random_state=123, verbosity=0))\n",
    "\n",
    "show_scores(xgb_score)"
   ]
  },
  {
   "cell_type": "code",
   "execution_count": 35,
   "metadata": {},
   "outputs": [
    {
     "name": "stdout",
     "output_type": "stream",
     "text": [
      "Scores: [5.96722884 5.13106255 6.66229788 6.74755433 6.07520773 5.67777616\n",
      " 5.72822973 6.55676149 5.63582106 6.43081835]\n",
      "Mean: 6.061275811941897\n"
     ]
    }
   ],
   "source": [
    "# LGBM\n",
    "\n",
    "lgboost, lgb_score = init_cross_val(lgb.LGBMRegressor(random_state=123))\n",
    "\n",
    "show_scores(lgb_score)"
   ]
  },
  {
   "cell_type": "code",
   "execution_count": 36,
   "metadata": {},
   "outputs": [
    {
     "name": "stdout",
     "output_type": "stream",
     "text": [
      "Scores: [5.94456992 4.97910965 6.00871834 6.82684037 5.79135968 5.85043845\n",
      " 5.35496946 6.34986914 5.42713148 6.06596169]\n",
      "Mean: 5.859896816368566\n"
     ]
    }
   ],
   "source": [
    "# CatBoost\n",
    "\n",
    "cb, cb_score = init_cross_val(CatBoostRegressor(random_state=123, silent=True))\n",
    "\n",
    "show_scores(cb_score)"
   ]
  },
  {
   "cell_type": "code",
   "execution_count": 37,
   "metadata": {},
   "outputs": [
    {
     "data": {
      "text/html": [
       "<div>\n",
       "<style scoped>\n",
       "    .dataframe tbody tr th:only-of-type {\n",
       "        vertical-align: middle;\n",
       "    }\n",
       "\n",
       "    .dataframe tbody tr th {\n",
       "        vertical-align: top;\n",
       "    }\n",
       "\n",
       "    .dataframe thead th {\n",
       "        text-align: right;\n",
       "    }\n",
       "</style>\n",
       "<table border=\"1\" class=\"dataframe\">\n",
       "  <thead>\n",
       "    <tr style=\"text-align: right;\">\n",
       "      <th></th>\n",
       "      <th>Model Type</th>\n",
       "      <th>CV Score</th>\n",
       "    </tr>\n",
       "  </thead>\n",
       "  <tbody>\n",
       "    <tr>\n",
       "      <th>0</th>\n",
       "      <td>Linear</td>\n",
       "      <td>6.534134</td>\n",
       "    </tr>\n",
       "    <tr>\n",
       "      <th>1</th>\n",
       "      <td>Logistic</td>\n",
       "      <td>8.078407</td>\n",
       "    </tr>\n",
       "    <tr>\n",
       "      <th>2</th>\n",
       "      <td>Random Forest</td>\n",
       "      <td>6.101783</td>\n",
       "    </tr>\n",
       "    <tr>\n",
       "      <th>3</th>\n",
       "      <td>XGBoost</td>\n",
       "      <td>6.096822</td>\n",
       "    </tr>\n",
       "    <tr>\n",
       "      <th>4</th>\n",
       "      <td>LightGBM</td>\n",
       "      <td>6.061276</td>\n",
       "    </tr>\n",
       "    <tr>\n",
       "      <th>5</th>\n",
       "      <td>CatBoost</td>\n",
       "      <td>5.859897</td>\n",
       "    </tr>\n",
       "  </tbody>\n",
       "</table>\n",
       "</div>"
      ],
      "text/plain": [
       "      Model Type  CV Score\n",
       "0         Linear  6.534134\n",
       "1       Logistic  8.078407\n",
       "2  Random Forest  6.101783\n",
       "3        XGBoost  6.096822\n",
       "4       LightGBM  6.061276\n",
       "5       CatBoost  5.859897"
      ]
     },
     "execution_count": 37,
     "metadata": {},
     "output_type": "execute_result"
    }
   ],
   "source": [
    "model_comps = {\n",
    "    'Model Type':['Linear', 'Logistic', 'Random Forest', 'XGBoost', 'LightGBM', 'CatBoost'],\n",
    "    'CV Score':[-np.mean(lin_score), -np.mean(log_score), -np.mean(rf_score), \n",
    "                -np.mean(xgb_score), -np.mean(lgb_score), -np.mean(cb_score)]\n",
    "}\n",
    "\n",
    "comps = pd.DataFrame(model_comps)\n",
    "comps"
   ]
  },
  {
   "cell_type": "markdown",
   "metadata": {},
   "source": [
    "### Early Model Results\n",
    "- Based on the above table I will take the top three models and tune their parameters\n",
    "    - CatBoost\n",
    "    - LightGBM\n",
    "    - XGBoost"
   ]
  },
  {
   "cell_type": "markdown",
   "metadata": {},
   "source": [
    "## Tuning Models with GridSearch"
   ]
  },
  {
   "cell_type": "code",
   "execution_count": 38,
   "metadata": {},
   "outputs": [],
   "source": [
    "# Setting up function to time cells and save to a variable\n",
    "\n",
    "def my_time(start, end):\n",
    "    diff_time = end - start\n",
    "    return round(diff_time, 4)"
   ]
  },
  {
   "cell_type": "code",
   "execution_count": 39,
   "metadata": {},
   "outputs": [],
   "source": [
    "def search_validate(model, params, X=x_train, y=y_train, xv=x_val, yv=y_val):\n",
    "    search = GridSearchCV(model, params, scoring='neg_mean_absolute_error')\n",
    "    search.fit(X,y)\n",
    "    best_params = search.best_params_\n",
    "    \n",
    "    mod = search.best_estimator_\n",
    "    mod.fit(X,y)\n",
    "    preds = mod.predict(xv)\n",
    "    mae = mean_absolute_error(yv, preds)\n",
    "    \n",
    "    return best_params, mod, mae"
   ]
  },
  {
   "cell_type": "code",
   "execution_count": 40,
   "metadata": {},
   "outputs": [
    {
     "name": "stdout",
     "output_type": "stream",
     "text": [
      "Top Params: {'learning_rate': 0.1, 'max_depth': 3, 'n_estimators': 100}\n",
      "Validation MAE: 5.908752179452789\n"
     ]
    }
   ],
   "source": [
    "# XGBoost\n",
    "xg_start = time.time()\n",
    "\n",
    "xg_grid = {\n",
    "    'n_estimators':[50,100,250],\n",
    "    'max_depth':[3,5,10,25],\n",
    "    'learning_rate':[0.1,0.3,0.5]\n",
    "}\n",
    "\n",
    "xg_params, top_xg, xg_val_mae = search_validate(xgb, xg_grid)\n",
    "\n",
    "print('Top Params:', xg_params)\n",
    "print('Validation MAE:', xg_val_mae)\n",
    "\n",
    "xg_end = time.time()\n",
    "xg_time = my_time(xg_start, xg_end)"
   ]
  },
  {
   "cell_type": "code",
   "execution_count": 41,
   "metadata": {
    "scrolled": true
   },
   "outputs": [
    {
     "name": "stderr",
     "output_type": "stream",
     "text": [
      "/Users/Ty/opt/anaconda3/lib/python3.7/site-packages/sklearn/model_selection/_validation.py:536: FitFailedWarning: Estimator fit failed. The score on this train-test partition for these parameters will be set to nan. Details: \n",
      "_catboost.CatBoostError: catboost/private/libs/options/oblivious_tree_options.cpp:119: Maximum tree depth is 16\n",
      "\n",
      "  FitFailedWarning)\n"
     ]
    },
    {
     "name": "stdout",
     "output_type": "stream",
     "text": [
      "Top Params: {'depth': 10, 'iterations': 300, 'learning_rate': 0.1}\n",
      "Validation MAE: 5.926693719686594\n"
     ]
    }
   ],
   "source": [
    "# Catboost\n",
    "cb_start = time.time()\n",
    "\n",
    "cb_grid = {\n",
    "    'depth':[10,20],\n",
    "    'iterations':[100,300,500],\n",
    "    'learning_rate':[0.1,0.3,0.5]\n",
    "}\n",
    "\n",
    "cb_params, top_cb, cb_val_mae = search_validate(cb, cb_grid)\n",
    "\n",
    "print('Top Params:', cb_params)\n",
    "print('Validation MAE:', cb_val_mae)\n",
    "\n",
    "cb_end = time.time()\n",
    "cb_time = my_time(cb_start, cb_end)"
   ]
  },
  {
   "cell_type": "code",
   "execution_count": 42,
   "metadata": {},
   "outputs": [
    {
     "name": "stdout",
     "output_type": "stream",
     "text": [
      "Top Params: {'max_depth': 20, 'num_leaves': 20}\n",
      "Validation MAE: 6.117287590595762\n"
     ]
    }
   ],
   "source": [
    "# LightGBM\n",
    "lg_start = time.time()\n",
    "\n",
    "lg_grid = {\n",
    "    'max_depth':[10,20,40,60],\n",
    "    'num_leaves':[20,40,60,80,100]\n",
    "}\n",
    "\n",
    "lg_params, top_lg, lg_val_mae = search_validate(lgboost, lg_grid)\n",
    "\n",
    "print('Top Params:', lg_params)\n",
    "print('Validation MAE:', lg_val_mae)\n",
    "\n",
    "lg_end = time.time()\n",
    "lg_time = my_time(lg_start, lg_end)"
   ]
  },
  {
   "cell_type": "code",
   "execution_count": 43,
   "metadata": {},
   "outputs": [
    {
     "data": {
      "text/html": [
       "<div>\n",
       "<style scoped>\n",
       "    .dataframe tbody tr th:only-of-type {\n",
       "        vertical-align: middle;\n",
       "    }\n",
       "\n",
       "    .dataframe tbody tr th {\n",
       "        vertical-align: top;\n",
       "    }\n",
       "\n",
       "    .dataframe thead th {\n",
       "        text-align: right;\n",
       "    }\n",
       "</style>\n",
       "<table border=\"1\" class=\"dataframe\">\n",
       "  <thead>\n",
       "    <tr style=\"text-align: right;\">\n",
       "      <th></th>\n",
       "      <th>Model</th>\n",
       "      <th>Validation MAE</th>\n",
       "      <th>Wall Time to Run</th>\n",
       "    </tr>\n",
       "  </thead>\n",
       "  <tbody>\n",
       "    <tr>\n",
       "      <th>0</th>\n",
       "      <td>XGBoost</td>\n",
       "      <td>5.908752</td>\n",
       "      <td>206.7201</td>\n",
       "    </tr>\n",
       "    <tr>\n",
       "      <th>1</th>\n",
       "      <td>CatBoost</td>\n",
       "      <td>5.926694</td>\n",
       "      <td>688.3305</td>\n",
       "    </tr>\n",
       "    <tr>\n",
       "      <th>2</th>\n",
       "      <td>LightGBM</td>\n",
       "      <td>6.117288</td>\n",
       "      <td>23.2351</td>\n",
       "    </tr>\n",
       "  </tbody>\n",
       "</table>\n",
       "</div>"
      ],
      "text/plain": [
       "      Model  Validation MAE  Wall Time to Run\n",
       "0   XGBoost        5.908752          206.7201\n",
       "1  CatBoost        5.926694          688.3305\n",
       "2  LightGBM        6.117288           23.2351"
      ]
     },
     "execution_count": 43,
     "metadata": {},
     "output_type": "execute_result"
    }
   ],
   "source": [
    "# Show comparison of models and scores\n",
    "\n",
    "val_comps = {\n",
    "    'Model':['XGBoost', 'CatBoost', 'LightGBM'],\n",
    "    'Validation MAE':[xg_val_mae, cb_val_mae, lg_val_mae],\n",
    "    'Wall Time to Run':[xg_time, cb_time, lg_time]\n",
    "}\n",
    "\n",
    "top_comps = pd.DataFrame(val_comps)\n",
    "top_comps"
   ]
  },
  {
   "cell_type": "code",
   "execution_count": 44,
   "metadata": {},
   "outputs": [
    {
     "name": "stdout",
     "output_type": "stream",
     "text": [
      "Model - XGBoost\n",
      "    Test Set MAE Score = 6.064857581142704\n"
     ]
    }
   ],
   "source": [
    "# Run Final XGBoost model on Test Data\n",
    "\n",
    "final_preds = top_xg.predict(x_test)\n",
    "test_mae = mean_absolute_error(y_test, final_preds)\n",
    "\n",
    "print('Model - XGBoost')\n",
    "print('    Test Set MAE Score =', test_mae)"
   ]
  },
  {
   "cell_type": "markdown",
   "metadata": {},
   "source": [
    "## Solution Report:\n",
    "---"
   ]
  },
  {
   "cell_type": "markdown",
   "metadata": {},
   "source": [
    "- **What steps of the plan were performed and what steps were skipped (explain why)?**\n",
    "    - I performed all steps of my plan except for the first one, which happens to not involve any code\n",
    "    - I did not clarify some of my confusion around the process or ask enough clarifying questions\n",
    "    - I felt as though I understood \"enough\" to get through, but with somemore clarification and focus I probably would have been more efficient in completing the code and completing the task"
   ]
  },
  {
   "cell_type": "markdown",
   "metadata": {},
   "source": [
    "- **What difficulties did you encounter and how did you manage to solve them?**\n",
    "    - Collecting and merging the data caused some of the most difficulty. Bringing together multiple dataframes in a way that was clean and concise was not easy"
   ]
  },
  {
   "cell_type": "markdown",
   "metadata": {},
   "source": [
    "- **What were some of the key steps to solving the task?**\n",
    "    - Collecting the right data that would be useful\n",
    "    - I tried to take a funnel approach with my models, starting with many simple ones and then narrowing down the best and fine-tuning them to achieve the desired metric"
   ]
  },
  {
   "cell_type": "markdown",
   "metadata": {},
   "source": [
    "- **What is your final model and what quality score does it have?**\n",
    "    - My final model was an XGBoost Model with the following parameters:\n",
    "        - max_depth=3\n",
    "        - n_estimators=100\n",
    "        - learning_rate=0.1\n",
    "    - The MAE score on the test dataset was 6.06"
   ]
  }
 ],
 "metadata": {
  "kernelspec": {
   "display_name": "Python 3",
   "language": "python",
   "name": "python3"
  },
  "language_info": {
   "codemirror_mode": {
    "name": "ipython",
    "version": 3
   },
   "file_extension": ".py",
   "mimetype": "text/x-python",
   "name": "python",
   "nbconvert_exporter": "python",
   "pygments_lexer": "ipython3",
   "version": "3.7.6"
  }
 },
 "nbformat": 4,
 "nbformat_minor": 4
}
