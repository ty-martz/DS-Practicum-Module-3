{
 "cells": [
  {
   "cell_type": "markdown",
   "metadata": {},
   "source": [
    "# Project 10: Linear Algebra\n",
    "---\n",
    "---"
   ]
  },
  {
   "cell_type": "markdown",
   "metadata": {},
   "source": [
    "## Project Task:\n",
    "\n",
    "- The Sure Tomorrow insurance company wants to protect its clients' data. Your task is to develop a data transforming algorithm that would make it hard to recover personal information from the transformed data. This is called data masking, or data obfuscation. You are also expected to prove that the algorithm works correctly. Additionally, the data should be protected in such a way that the quality of machine learning models doesn't suffer. You don't need to pick the best model.\n",
    "- Follow these steps to develop a new algorithm:\n",
    "    - construct a theoretical proof using properties of models and the given task;\n",
    "    - formulate an algorithm for this proof;\n",
    "    - check that the algorithm is working correctly when applied to real data.\n"
   ]
  },
  {
   "cell_type": "markdown",
   "metadata": {},
   "source": [
    "## Project Instructions:\n",
    "\n",
    "- Look into and preprocess the data.\n",
    "- Provide a theoretical proof based on the equation of linear regression.\n",
    "    - The features are multiplied by an invertible matrix. Show that the quality of the model is the same for both sets of parameters: the original features and the features after multiplication.\n",
    "    - How are the weight vectors from MSE minimums for these models related?\n",
    "- State an algorithm for data transformation to solve the task. Explain why the linear regression quality won't change based on the proof above.\n",
    "- Program your algorithm using matrix operations. Make sure that the quality of linear regression from sklearn is the same before and after transformation. Use the R2 metric."
   ]
  },
  {
   "cell_type": "markdown",
   "metadata": {},
   "source": [
    "## The Data:\n",
    "- Insurance Data in the US\n",
    "- Each row is a single record for a person on insurance\n",
    "- Columns:\n",
    "    - Features: insured person's gender, age, salary, and number of family members.\n",
    "    - Target: number of insurance benefits received by the insured person over the last five years."
   ]
  },
  {
   "cell_type": "markdown",
   "metadata": {},
   "source": [
    "---"
   ]
  },
  {
   "cell_type": "code",
   "execution_count": 1,
   "metadata": {},
   "outputs": [],
   "source": [
    "# Library Imports\n",
    "\n",
    "import pandas as pd\n",
    "import numpy as np\n",
    "import matplotlib.pyplot as plt\n",
    "from sklearn.metrics import r2_score, mean_squared_error\n",
    "from sklearn.linear_model import LinearRegression\n",
    "from sklearn.model_selection import train_test_split"
   ]
  },
  {
   "cell_type": "markdown",
   "metadata": {},
   "source": [
    "## 1) Look into and Preprocess the Data:\n",
    "---"
   ]
  },
  {
   "cell_type": "code",
   "execution_count": 2,
   "metadata": {},
   "outputs": [
    {
     "data": {
      "text/html": [
       "<div>\n",
       "<style scoped>\n",
       "    .dataframe tbody tr th:only-of-type {\n",
       "        vertical-align: middle;\n",
       "    }\n",
       "\n",
       "    .dataframe tbody tr th {\n",
       "        vertical-align: top;\n",
       "    }\n",
       "\n",
       "    .dataframe thead th {\n",
       "        text-align: right;\n",
       "    }\n",
       "</style>\n",
       "<table border=\"1\" class=\"dataframe\">\n",
       "  <thead>\n",
       "    <tr style=\"text-align: right;\">\n",
       "      <th></th>\n",
       "      <th>Gender</th>\n",
       "      <th>Age</th>\n",
       "      <th>Salary</th>\n",
       "      <th>Family members</th>\n",
       "      <th>Insurance benefits</th>\n",
       "    </tr>\n",
       "  </thead>\n",
       "  <tbody>\n",
       "    <tr>\n",
       "      <td>0</td>\n",
       "      <td>1</td>\n",
       "      <td>41.0</td>\n",
       "      <td>49600.0</td>\n",
       "      <td>1</td>\n",
       "      <td>0</td>\n",
       "    </tr>\n",
       "    <tr>\n",
       "      <td>1</td>\n",
       "      <td>0</td>\n",
       "      <td>46.0</td>\n",
       "      <td>38000.0</td>\n",
       "      <td>1</td>\n",
       "      <td>1</td>\n",
       "    </tr>\n",
       "    <tr>\n",
       "      <td>2</td>\n",
       "      <td>0</td>\n",
       "      <td>29.0</td>\n",
       "      <td>21000.0</td>\n",
       "      <td>0</td>\n",
       "      <td>0</td>\n",
       "    </tr>\n",
       "    <tr>\n",
       "      <td>3</td>\n",
       "      <td>0</td>\n",
       "      <td>21.0</td>\n",
       "      <td>41700.0</td>\n",
       "      <td>2</td>\n",
       "      <td>0</td>\n",
       "    </tr>\n",
       "    <tr>\n",
       "      <td>4</td>\n",
       "      <td>1</td>\n",
       "      <td>28.0</td>\n",
       "      <td>26100.0</td>\n",
       "      <td>0</td>\n",
       "      <td>0</td>\n",
       "    </tr>\n",
       "  </tbody>\n",
       "</table>\n",
       "</div>"
      ],
      "text/plain": [
       "   Gender   Age   Salary  Family members  Insurance benefits\n",
       "0       1  41.0  49600.0               1                   0\n",
       "1       0  46.0  38000.0               1                   1\n",
       "2       0  29.0  21000.0               0                   0\n",
       "3       0  21.0  41700.0               2                   0\n",
       "4       1  28.0  26100.0               0                   0"
      ]
     },
     "execution_count": 2,
     "metadata": {},
     "output_type": "execute_result"
    }
   ],
   "source": [
    "# Import data to a pandas dataframe\n",
    "\n",
    "# Local Path\n",
    "#df = pd.read_csv('insurance_us.csv')\n",
    "\n",
    "# Practicum JupyterHub Path\n",
    "df = pd.read_csv('/datasets/insurance_us.csv')\n",
    "df.head()"
   ]
  },
  {
   "cell_type": "code",
   "execution_count": 3,
   "metadata": {},
   "outputs": [],
   "source": [
    "df.columns = ['gender', 'age', 'salary', 'family_members', 'insurance_benefits']"
   ]
  },
  {
   "cell_type": "code",
   "execution_count": 4,
   "metadata": {},
   "outputs": [
    {
     "name": "stdout",
     "output_type": "stream",
     "text": [
      "<class 'pandas.core.frame.DataFrame'>\n",
      "RangeIndex: 5000 entries, 0 to 4999\n",
      "Data columns (total 5 columns):\n",
      "gender                5000 non-null int64\n",
      "age                   5000 non-null float64\n",
      "salary                5000 non-null float64\n",
      "family_members        5000 non-null int64\n",
      "insurance_benefits    5000 non-null int64\n",
      "dtypes: float64(2), int64(3)\n",
      "memory usage: 195.4 KB\n"
     ]
    }
   ],
   "source": [
    "df.info()"
   ]
  },
  {
   "cell_type": "code",
   "execution_count": 5,
   "metadata": {},
   "outputs": [
    {
     "data": {
      "text/plain": [
       "153"
      ]
     },
     "execution_count": 5,
     "metadata": {},
     "output_type": "execute_result"
    }
   ],
   "source": [
    "df.duplicated().sum()"
   ]
  },
  {
   "cell_type": "code",
   "execution_count": 6,
   "metadata": {},
   "outputs": [
    {
     "data": {
      "text/html": [
       "<div>\n",
       "<style scoped>\n",
       "    .dataframe tbody tr th:only-of-type {\n",
       "        vertical-align: middle;\n",
       "    }\n",
       "\n",
       "    .dataframe tbody tr th {\n",
       "        vertical-align: top;\n",
       "    }\n",
       "\n",
       "    .dataframe thead th {\n",
       "        text-align: right;\n",
       "    }\n",
       "</style>\n",
       "<table border=\"1\" class=\"dataframe\">\n",
       "  <thead>\n",
       "    <tr style=\"text-align: right;\">\n",
       "      <th></th>\n",
       "      <th>gender</th>\n",
       "      <th>age</th>\n",
       "      <th>salary</th>\n",
       "      <th>family_members</th>\n",
       "      <th>insurance_benefits</th>\n",
       "    </tr>\n",
       "  </thead>\n",
       "  <tbody>\n",
       "    <tr>\n",
       "      <td>count</td>\n",
       "      <td>5000.000000</td>\n",
       "      <td>5000.000000</td>\n",
       "      <td>5000.000000</td>\n",
       "      <td>5000.000000</td>\n",
       "      <td>5000.000000</td>\n",
       "    </tr>\n",
       "    <tr>\n",
       "      <td>mean</td>\n",
       "      <td>0.499000</td>\n",
       "      <td>30.952800</td>\n",
       "      <td>39916.360000</td>\n",
       "      <td>1.194200</td>\n",
       "      <td>0.148000</td>\n",
       "    </tr>\n",
       "    <tr>\n",
       "      <td>std</td>\n",
       "      <td>0.500049</td>\n",
       "      <td>8.440807</td>\n",
       "      <td>9900.083569</td>\n",
       "      <td>1.091387</td>\n",
       "      <td>0.463183</td>\n",
       "    </tr>\n",
       "    <tr>\n",
       "      <td>min</td>\n",
       "      <td>0.000000</td>\n",
       "      <td>18.000000</td>\n",
       "      <td>5300.000000</td>\n",
       "      <td>0.000000</td>\n",
       "      <td>0.000000</td>\n",
       "    </tr>\n",
       "    <tr>\n",
       "      <td>25%</td>\n",
       "      <td>0.000000</td>\n",
       "      <td>24.000000</td>\n",
       "      <td>33300.000000</td>\n",
       "      <td>0.000000</td>\n",
       "      <td>0.000000</td>\n",
       "    </tr>\n",
       "    <tr>\n",
       "      <td>50%</td>\n",
       "      <td>0.000000</td>\n",
       "      <td>30.000000</td>\n",
       "      <td>40200.000000</td>\n",
       "      <td>1.000000</td>\n",
       "      <td>0.000000</td>\n",
       "    </tr>\n",
       "    <tr>\n",
       "      <td>75%</td>\n",
       "      <td>1.000000</td>\n",
       "      <td>37.000000</td>\n",
       "      <td>46600.000000</td>\n",
       "      <td>2.000000</td>\n",
       "      <td>0.000000</td>\n",
       "    </tr>\n",
       "    <tr>\n",
       "      <td>max</td>\n",
       "      <td>1.000000</td>\n",
       "      <td>65.000000</td>\n",
       "      <td>79000.000000</td>\n",
       "      <td>6.000000</td>\n",
       "      <td>5.000000</td>\n",
       "    </tr>\n",
       "  </tbody>\n",
       "</table>\n",
       "</div>"
      ],
      "text/plain": [
       "            gender          age        salary  family_members  \\\n",
       "count  5000.000000  5000.000000   5000.000000     5000.000000   \n",
       "mean      0.499000    30.952800  39916.360000        1.194200   \n",
       "std       0.500049     8.440807   9900.083569        1.091387   \n",
       "min       0.000000    18.000000   5300.000000        0.000000   \n",
       "25%       0.000000    24.000000  33300.000000        0.000000   \n",
       "50%       0.000000    30.000000  40200.000000        1.000000   \n",
       "75%       1.000000    37.000000  46600.000000        2.000000   \n",
       "max       1.000000    65.000000  79000.000000        6.000000   \n",
       "\n",
       "       insurance_benefits  \n",
       "count         5000.000000  \n",
       "mean             0.148000  \n",
       "std              0.463183  \n",
       "min              0.000000  \n",
       "25%              0.000000  \n",
       "50%              0.000000  \n",
       "75%              0.000000  \n",
       "max              5.000000  "
      ]
     },
     "execution_count": 6,
     "metadata": {},
     "output_type": "execute_result"
    }
   ],
   "source": [
    "df.describe()"
   ]
  },
  {
   "cell_type": "code",
   "execution_count": 7,
   "metadata": {},
   "outputs": [
    {
     "data": {
      "image/png": "[encoded data removed]",
      "text/plain": [
       "<Figure size 432x288 with 6 Axes>"
      ]
     },
     "metadata": {
      "needs_background": "light"
     },
     "output_type": "display_data"
    }
   ],
   "source": [
    "df.hist()\n",
    "plt.tight_layout(pad=0.5)"
   ]
  },
  {
   "cell_type": "code",
   "execution_count": 8,
   "metadata": {},
   "outputs": [
    {
     "data": {
      "text/plain": [
       "18.0"
      ]
     },
     "execution_count": 8,
     "metadata": {},
     "output_type": "execute_result"
    }
   ],
   "source": [
    "df['age'].min()"
   ]
  },
  {
   "cell_type": "markdown",
   "metadata": {},
   "source": [
    "- Looking at the data:\n",
    "    - We find no null or missing values\n",
    "    - Each series has a proper data type\n",
    "    - Nothing abnormal about the distributions\n",
    "        - Age has a strong right tail\n",
    "        - Salary is quite normal looking\n",
    "        - Gender is binary\n",
    "        - family_member and insurance_benefits are somewhat similar looking but the first has a stronger tail while the latter is heavily favored over 0"
   ]
  },
  {
   "cell_type": "markdown",
   "metadata": {},
   "source": [
    "## 2) Provide a theoretical proof based on the equation of linear regression.\n",
    "- The features are multiplied by an invertible matrix.\n",
    "- Show that the quality of the model is the same for both sets of parameters: the original features and the features after multiplication.\n",
    "- How are the weight vectors from MSE minimums for these models related?\n",
    "---"
   ]
  },
  {
   "cell_type": "markdown",
   "metadata": {},
   "source": [
    "**Theoretical Proof:**\n",
    "- Linear regression equation --> y = wx + $w_{0}$\n",
    "- We want to find a prediction vector (a) so we take the training features (X) and get --> a = Xw + $w_{0}$\n",
    "- By creating columnb zero in matrix X and setting it to all 1's we can multiply it by the w vector to get --> a = Xw\n",
    "- Now we can find the w vector that minimizes MSE with --> w = argmin MSE(Xw, y), where y is the target vector\n",
    "- This is also completed with the formula --> w = $($X^{T}$X)^{-1}$$X^{T}$y\n",
    "\n",
    "- With the inverted random matrix as the key, it is multiplied with the original feature set to to create new features.\n",
    "- With a different feature set that was changed with the inverted matrix, the formula is used to minimize MSE and get the same result based on new weight vectors"
   ]
  },
  {
   "cell_type": "code",
   "execution_count": 9,
   "metadata": {},
   "outputs": [
    {
     "data": {
      "text/html": [
       "<div>\n",
       "<style scoped>\n",
       "    .dataframe tbody tr th:only-of-type {\n",
       "        vertical-align: middle;\n",
       "    }\n",
       "\n",
       "    .dataframe tbody tr th {\n",
       "        vertical-align: top;\n",
       "    }\n",
       "\n",
       "    .dataframe thead th {\n",
       "        text-align: right;\n",
       "    }\n",
       "</style>\n",
       "<table border=\"1\" class=\"dataframe\">\n",
       "  <thead>\n",
       "    <tr style=\"text-align: right;\">\n",
       "      <th></th>\n",
       "      <th>0</th>\n",
       "      <th>1</th>\n",
       "      <th>2</th>\n",
       "      <th>3</th>\n",
       "    </tr>\n",
       "  </thead>\n",
       "  <tbody>\n",
       "    <tr>\n",
       "      <td>0</td>\n",
       "      <td>-22222.379666</td>\n",
       "      <td>27153.853364</td>\n",
       "      <td>5329.791264</td>\n",
       "      <td>23965.204681</td>\n",
       "    </tr>\n",
       "    <tr>\n",
       "      <td>1</td>\n",
       "      <td>-17047.881538</td>\n",
       "      <td>20820.256106</td>\n",
       "      <td>4080.156869</td>\n",
       "      <td>18360.027364</td>\n",
       "    </tr>\n",
       "    <tr>\n",
       "      <td>2</td>\n",
       "      <td>-9424.382291</td>\n",
       "      <td>11508.276917</td>\n",
       "      <td>2252.440093</td>\n",
       "      <td>10146.108076</td>\n",
       "    </tr>\n",
       "    <tr>\n",
       "      <td>3</td>\n",
       "      <td>-18668.988600</td>\n",
       "      <td>22817.703122</td>\n",
       "      <td>4488.575274</td>\n",
       "      <td>20148.819235</td>\n",
       "    </tr>\n",
       "    <tr>\n",
       "      <td>4</td>\n",
       "      <td>-11700.267417</td>\n",
       "      <td>14294.040378</td>\n",
       "      <td>2800.911578</td>\n",
       "      <td>12610.416497</td>\n",
       "    </tr>\n",
       "  </tbody>\n",
       "</table>\n",
       "</div>"
      ],
      "text/plain": [
       "              0             1            2             3\n",
       "0 -22222.379666  27153.853364  5329.791264  23965.204681\n",
       "1 -17047.881538  20820.256106  4080.156869  18360.027364\n",
       "2  -9424.382291  11508.276917  2252.440093  10146.108076\n",
       "3 -18668.988600  22817.703122  4488.575274  20148.819235\n",
       "4 -11700.267417  14294.040378  2800.911578  12610.416497"
      ]
     },
     "execution_count": 9,
     "metadata": {},
     "output_type": "execute_result"
    }
   ],
   "source": [
    "features = df.drop('insurance_benefits', axis=1)\n",
    "target = df['insurance_benefits']\n",
    "\n",
    "# invertible matrix to multiply by features\n",
    "rand_matrix = np.random.normal(size=(4,4))\n",
    "rand_m_inv = np.linalg.inv(rand_matrix)\n",
    "\n",
    "# matrix multiplication between original features and random inverted matrix\n",
    "new_features = features @ rand_m_inv\n",
    "new_features.head()"
   ]
  },
  {
   "cell_type": "markdown",
   "metadata": {},
   "source": [
    "#### Linear Regression Model:"
   ]
  },
  {
   "cell_type": "code",
   "execution_count": 10,
   "metadata": {},
   "outputs": [],
   "source": [
    "# splitting data for training and testing for each set\n",
    "xtrain, xval, ytrain, yval = train_test_split(features, target, test_size=0.2, random_state=1)\n",
    "\n",
    "x1_train, x1_val, y1_train, y1_val = train_test_split(new_features, target, test_size=0.2, random_state=1)\n"
   ]
  },
  {
   "cell_type": "code",
   "execution_count": 11,
   "metadata": {},
   "outputs": [
    {
     "name": "stdout",
     "output_type": "stream",
     "text": [
      "Original Data R2 Score: 0.36249729353277194\n",
      "MSE: 0.1086043235710505\n"
     ]
    }
   ],
   "source": [
    "model = LinearRegression()\n",
    "model.fit(xtrain, ytrain)\n",
    "preds = model.predict(xval)\n",
    "score = r2_score(yval, preds)\n",
    "mse = mean_squared_error(yval, preds)\n",
    "print('Original Data R2 Score:', score)\n",
    "print('MSE:', mse)"
   ]
  },
  {
   "cell_type": "code",
   "execution_count": 12,
   "metadata": {},
   "outputs": [
    {
     "name": "stdout",
     "output_type": "stream",
     "text": [
      "Multiplied Data R2 Score: 0.3624972935327553\n",
      "MSE: 0.10860432357105333\n"
     ]
    }
   ],
   "source": [
    "model_1 = LinearRegression()\n",
    "model_1.fit(x1_train, y1_train)\n",
    "preds_1 = model_1.predict(x1_val)\n",
    "score_1 = r2_score(y1_val, preds_1)\n",
    "mse_1 = mean_squared_error(y1_val, preds_1)\n",
    "print('Multiplied Data R2 Score:', score_1)\n",
    "print('MSE:', mse_1)"
   ]
  },
  {
   "cell_type": "markdown",
   "metadata": {},
   "source": [
    "**Similarity of Models with different Features**\n",
    "- Based on training and running a Linear Regression model on both the original data and the transformed data:\n",
    "    - Both sets score the exact same in R2 score up to the 11th decimal place\n",
    "    - Both sets score the exact same MSE up to the 12th decimal place"
   ]
  },
  {
   "cell_type": "code",
   "execution_count": 13,
   "metadata": {},
   "outputs": [
    {
     "name": "stdout",
     "output_type": "stream",
     "text": [
      "Original Feature Weights: [-4.43854686e-02  2.33356224e-02 -1.17739038e-05 -4.55168125e-02]\n",
      "New Feature Weights: [-0.06548293 -0.0714228  -0.0309316   0.02709593]\n",
      "-----\n",
      "Difference between weights: [-0.02109746 -0.09475842 -0.03091983  0.07261274]\n"
     ]
    }
   ],
   "source": [
    "X = features\n",
    "y = target\n",
    "w = np.linalg.inv((X.T.dot(X))).dot(X.T).dot(y)\n",
    "\n",
    "X1 = new_features\n",
    "w1 = np.linalg.inv((X1.T.dot(X1))).dot(X1.T).dot(y)\n",
    "\n",
    "print('Original Feature Weights:', w)\n",
    "print('New Feature Weights:', w1)\n",
    "print('-----')\n",
    "print('Difference between weights:', w1-w)"
   ]
  },
  {
   "cell_type": "markdown",
   "metadata": {},
   "source": [
    "**Comparing weights of the two feature sets**\n",
    "- Using the formula to calculate the weight vectors from MSE minimums:\n",
    "    - We see slight differences between the two weight vectors\n",
    "    - For the transformed data vs the original:\n",
    "        - The gender column is weighted more\n",
    "        - The age column is weighted less\n",
    "        - The salary column is weighted less\n",
    "        - The family_member column is weighted more\n",
    "    - The two feature sets score the same R2 and MSE with slightly different vectors because the feature values are different"
   ]
  },
  {
   "cell_type": "markdown",
   "metadata": {},
   "source": [
    "## 3) State an algorithm for data transformation to solve the task. \n",
    "- Explain why the linear regression quality won't change based on the proof above.\n",
    "---"
   ]
  },
  {
   "cell_type": "markdown",
   "metadata": {},
   "source": [
    "- The way we can transform data is by creating a random square matrix where both the numbers and rows are equal to the number of columns in the original feature set\n",
    "- We can then invert the randomly created matrix and multiply it by the original matrix to create a new masked feature set\n",
    "    - This feature set completely changes each number so we do not know the actual values of gender, age, salary, or number of family members\n",
    "- We can then train and test our Linear Regression model on the new features without revealing any potential information.\n",
    "---\n",
    "- Based on the proof in the prior section, both the original features from the data as well as the masked data gets us the same metric results in both R2 Score and MSE.\n",
    "    - Since each datapoint is masked with the same random matrix, the model will not see major differences between the two and will predict the same way\n",
    "    - The only things that change are the weights of the features, because they were transformed, but need to get to the same result in the end"
   ]
  },
  {
   "cell_type": "markdown",
   "metadata": {},
   "source": [
    "## 4) Program your algorithm using matrix operations. \n",
    "- Make sure that the quality of linear regression from sklearn is the same before and after transformation. Use the R2 metric.\n",
    "---"
   ]
  },
  {
   "cell_type": "code",
   "execution_count": 14,
   "metadata": {},
   "outputs": [],
   "source": [
    "class LinReg:\n",
    "    def mask(self, train_features):\n",
    "        rand_matrix = np.random.normal(size=(train_features.shape[1], train_features.shape[1]))\n",
    "        rand_m_inv = np.linalg.inv(rand_matrix)\n",
    "        new_features = train_features @ rand_m_inv\n",
    "        return new_features\n",
    "    \n",
    "    def split(self, features, target, new_features):\n",
    "        xt, xv, yt, yv = train_test_split(features, target, test_size=0.2, random_state=1)\n",
    "        xt1, xv1, yt1, yv1 = train_test_split(new_features, target, test_size=0.2, random_state=1)\n",
    "        return xt, xv, yt, yv, xt1, xv1, yt1, yv1\n",
    "    \n",
    "    def fit(self, train_features, train_target):\n",
    "        X = np.concatenate((np.ones((train_features.shape[0], 1)), train_features), axis=1)\n",
    "        y = train_target\n",
    "        w = np.linalg.inv((X.T.dot(X))).dot(X.T).dot(y)\n",
    "        self.w = w[1:]\n",
    "        self.w0 = w[0]\n",
    "\n",
    "    def predict(self, test_features):\n",
    "        return test_features.dot(self.w) + self.w0\n",
    "    \n",
    "    def score_diff(self, original_score, mask_score):\n",
    "        return mask_score - original_score"
   ]
  },
  {
   "cell_type": "code",
   "execution_count": 15,
   "metadata": {},
   "outputs": [
    {
     "name": "stdout",
     "output_type": "stream",
     "text": [
      "Original Data R2: 0.36249729353277327\n",
      "Transform Data R2: 0.36249731162493115\n",
      "-----\n",
      " Difference between R2 Scores: 1.809215788295404e-08\n",
      "\n",
      "Original Data MSE: 0.10860432357105027\n",
      "Transform Data MSE: 0.10860432048888835\n",
      "-----\n",
      " Difference between MSE Scores: -3.082161914580439e-09\n"
     ]
    }
   ],
   "source": [
    "# Initiate model\n",
    "mod = LinReg()\n",
    "mod1 = LinReg()\n",
    "\n",
    "# Create transformed features\n",
    "transformed_feats = mod1.mask(features)\n",
    "\n",
    "# Split data into train and test\n",
    "xt, xv, yt, yv, xt1, xv1, yt1, yv1 = mod.split(features, target, transformed_feats)\n",
    "\n",
    "# Fit, Predict, and Score original dataset\n",
    "mod.fit(xt, yt)\n",
    "p = mod.predict(xv)\n",
    "r = r2_score(yv, p)\n",
    "m = mean_squared_error(yv, p)\n",
    "\n",
    "# Fit, Predict, and Score transformed dataset\n",
    "mod1.fit(xt1, yt1)\n",
    "p1 = mod1.predict(xv1)\n",
    "r1 = r2_score(yv1, p1)\n",
    "m1 = mean_squared_error(yv1, p1)\n",
    "\n",
    "# Find difference between the R2 Scores\n",
    "diff = mod.score_diff(r, r1)\n",
    "mse_diff = mod.score_diff(m, m1)\n",
    "\n",
    "print('Original Data R2:', r)\n",
    "print('Transform Data R2:', r1)\n",
    "print('-----')\n",
    "print(' Difference between R2 Scores:', diff)\n",
    "print('')\n",
    "print('Original Data MSE:', m)\n",
    "print('Transform Data MSE:', m1)\n",
    "print('-----')\n",
    "print(' Difference between MSE Scores:', mse_diff)"
   ]
  },
  {
   "cell_type": "markdown",
   "metadata": {},
   "source": [
    "**Conclusion:**\n",
    "- Above I created the LinReg class:\n",
    "    - Under this I created all of the necessary functions to transform the features, split the data, fit the model, train the model, score the model, and compare it to a the transformed model.\n",
    "- After running this algorithm, I found a similar result in that the original and transformed data both allow the model to return a nearly identical result up to the 8th decimal\n"
   ]
  }
 ],
 "metadata": {
  "kernelspec": {
   "display_name": "Python 3",
   "language": "python",
   "name": "python3"
  },
  "language_info": {
   "codemirror_mode": {
    "name": "ipython",
    "version": 3
   },
   "file_extension": ".py",
   "mimetype": "text/x-python",
   "name": "python",
   "nbconvert_exporter": "python",
   "pygments_lexer": "ipython3",
   "version": "3.7.6"
  }
 },
 "nbformat": 4,
 "nbformat_minor": 4
}
