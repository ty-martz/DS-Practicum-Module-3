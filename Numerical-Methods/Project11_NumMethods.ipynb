{
 "cells": [
  {
   "cell_type": "markdown",
   "metadata": {},
   "source": [
    "# Project 11: Numerical Methods\n",
    "---"
   ]
  },
  {
   "cell_type": "markdown",
   "metadata": {},
   "source": [
    "## Description:\n",
    "- Rusty Bargain used car sales service is developing an app to attract new customers. In that app, you can quickly find out the market value of your car. You have access to historical data: technical specifications, trim versions, and prices. You need to build the model to determine the value.\n",
    "- Rusty Bargain is interested in:\n",
    "    - the quality of the prediction\n",
    "    - the speed of the prediction\n",
    "    - the time required for training\n",
    "---"
   ]
  },
  {
   "cell_type": "markdown",
   "metadata": {},
   "source": [
    "## Instructions:\n",
    "1. Download and look at the data.\n",
    "2. Train different models with various hyperparameters (You should make at least two different models, but more is better. Remember, various implementations of gradient boosting don't count as different models.) The main point of this step is to compare gradient boosting methods with random forest, decision tree, and linear regression.\n",
    "3. Analyze the speed and quality of the models.\n",
    "---\n",
    "**Notes:**\n",
    "- Use the RMSE metric to evaluate the models.\n",
    "- Linear regression is not very good for hyperparameter tuning, but it is perfect for doing a sanity check of other methods. If gradient boosting performs worse than linear regression, something definitely went wrong.\n",
    "- On your own, work with the LightGBM library and use its tools to build gradient boosting models.\n",
    "- Ideally, your project should include linear regression for a sanity check, a tree-based algorithm with hyperparameter tuning (preferably, random forrest), LightGBM with hyperparameter tuning (try a couple of sets), and CatBoost and XGBoost with hyperparameter tuning (optional).\n",
    "- Take note of the encoding of categorical features for simple algorithms. LightGBM and CatBoost have their implementation, but XGBoost requires OHE.\n",
    "- You can use a special command to find the cell code runtime in Jupyter Notebook. Find that command.\n",
    "- Since the training of a gradient boosting model can take a long time, change only a few model parameters.\n",
    "- If Jupyter Notebook stops working, delete the excessive variables by using the del operator:"
   ]
  },
  {
   "cell_type": "markdown",
   "metadata": {},
   "source": [
    "## Data:\n",
    "**Features**\n",
    "- DateCrawled — date profile was downloaded from the database\n",
    "- VehicleType — vehicle body type\n",
    "- RegistrationYear — vehicle registration year\n",
    "- Gearbox — gearbox type\n",
    "- Power — power (hp)\n",
    "- Model — vehicle model\n",
    "- Mileage — mileage (measured in km due to dataset's regional specifics)\n",
    "- RegistrationMonth — vehicle registration month\n",
    "- FuelType — fuel type\n",
    "- Brand — vehicle brand\n",
    "- NotRepaired — vehicle repaired or not\n",
    "- DateCreated — date of profile creation\n",
    "- NumberOfPictures — number of vehicle pictures\n",
    "- PostalCode — postal code of profile owner (user)\n",
    "- LastSeen — date of the last activity of the user\n",
    "\n",
    "**Target**\n",
    "- Price — price (Euro)\n",
    "---"
   ]
  },
  {
   "cell_type": "code",
   "execution_count": 1,
   "metadata": {},
   "outputs": [],
   "source": [
    "# Library Imports:\n",
    "\n",
    "import pandas as pd\n",
    "import numpy as np\n",
    "import matplotlib.pyplot as plt\n",
    "import time\n",
    "\n",
    "# Model Imports\n",
    "from sklearn.model_selection import train_test_split\n",
    "from sklearn.preprocessing import OneHotEncoder, LabelEncoder\n",
    "from sklearn.ensemble import RandomForestRegressor\n",
    "from sklearn.linear_model import LinearRegression\n",
    "import xgboost as xgb\n",
    "import lightgbm as lgb\n",
    "from catboost import CatBoostRegressor\n",
    "\n",
    "# Metric Imports\n",
    "from sklearn.metrics import mean_squared_error"
   ]
  },
  {
   "cell_type": "markdown",
   "metadata": {},
   "source": [
    "#### Note on Notebook Below:\n",
    "\n",
    "The following notebook contains 5 trained models, some of which took over 25 minutes on my last run. The dataframe in the cell below shows the wall times in seconds to train each model after parameter tuning (which takes longer). To speed things up I would suggest not running the parameter tuning cells and focus on the final models."
   ]
  },
  {
   "cell_type": "markdown",
   "metadata": {},
   "source": [
    "## 1) Data Preprocessing\n",
    "---"
   ]
  },
  {
   "cell_type": "code",
   "execution_count": 2,
   "metadata": {},
   "outputs": [],
   "source": [
    "# UNCOMMENT IF USING JUPYTERHUB in PRACTICUM\n",
    "path = '/datasets/car_data.csv'\n",
    "\n",
    "# Path for my local Jupyter Notebook\n",
    "# path = 'car_data.csv'\n",
    "\n",
    "df = pd.read_csv(path)"
   ]
  },
  {
   "cell_type": "code",
   "execution_count": 3,
   "metadata": {},
   "outputs": [
    {
     "data": {
      "text/html": [
       "<div>\n",
       "<style scoped>\n",
       "    .dataframe tbody tr th:only-of-type {\n",
       "        vertical-align: middle;\n",
       "    }\n",
       "\n",
       "    .dataframe tbody tr th {\n",
       "        vertical-align: top;\n",
       "    }\n",
       "\n",
       "    .dataframe thead th {\n",
       "        text-align: right;\n",
       "    }\n",
       "</style>\n",
       "<table border=\"1\" class=\"dataframe\">\n",
       "  <thead>\n",
       "    <tr style=\"text-align: right;\">\n",
       "      <th></th>\n",
       "      <th>DateCrawled</th>\n",
       "      <th>Price</th>\n",
       "      <th>VehicleType</th>\n",
       "      <th>RegistrationYear</th>\n",
       "      <th>Gearbox</th>\n",
       "      <th>Power</th>\n",
       "      <th>Model</th>\n",
       "      <th>Mileage</th>\n",
       "      <th>RegistrationMonth</th>\n",
       "      <th>FuelType</th>\n",
       "      <th>Brand</th>\n",
       "      <th>NotRepaired</th>\n",
       "      <th>DateCreated</th>\n",
       "      <th>NumberOfPictures</th>\n",
       "      <th>PostalCode</th>\n",
       "      <th>LastSeen</th>\n",
       "    </tr>\n",
       "  </thead>\n",
       "  <tbody>\n",
       "    <tr>\n",
       "      <td>0</td>\n",
       "      <td>24/03/2016 11:52</td>\n",
       "      <td>480</td>\n",
       "      <td>NaN</td>\n",
       "      <td>1993</td>\n",
       "      <td>manual</td>\n",
       "      <td>0</td>\n",
       "      <td>golf</td>\n",
       "      <td>150000</td>\n",
       "      <td>0</td>\n",
       "      <td>petrol</td>\n",
       "      <td>volkswagen</td>\n",
       "      <td>NaN</td>\n",
       "      <td>24/03/2016 00:00</td>\n",
       "      <td>0</td>\n",
       "      <td>70435</td>\n",
       "      <td>07/04/2016 03:16</td>\n",
       "    </tr>\n",
       "    <tr>\n",
       "      <td>1</td>\n",
       "      <td>24/03/2016 10:58</td>\n",
       "      <td>18300</td>\n",
       "      <td>coupe</td>\n",
       "      <td>2011</td>\n",
       "      <td>manual</td>\n",
       "      <td>190</td>\n",
       "      <td>NaN</td>\n",
       "      <td>125000</td>\n",
       "      <td>5</td>\n",
       "      <td>gasoline</td>\n",
       "      <td>audi</td>\n",
       "      <td>yes</td>\n",
       "      <td>24/03/2016 00:00</td>\n",
       "      <td>0</td>\n",
       "      <td>66954</td>\n",
       "      <td>07/04/2016 01:46</td>\n",
       "    </tr>\n",
       "    <tr>\n",
       "      <td>2</td>\n",
       "      <td>14/03/2016 12:52</td>\n",
       "      <td>9800</td>\n",
       "      <td>suv</td>\n",
       "      <td>2004</td>\n",
       "      <td>auto</td>\n",
       "      <td>163</td>\n",
       "      <td>grand</td>\n",
       "      <td>125000</td>\n",
       "      <td>8</td>\n",
       "      <td>gasoline</td>\n",
       "      <td>jeep</td>\n",
       "      <td>NaN</td>\n",
       "      <td>14/03/2016 00:00</td>\n",
       "      <td>0</td>\n",
       "      <td>90480</td>\n",
       "      <td>05/04/2016 12:47</td>\n",
       "    </tr>\n",
       "    <tr>\n",
       "      <td>3</td>\n",
       "      <td>17/03/2016 16:54</td>\n",
       "      <td>1500</td>\n",
       "      <td>small</td>\n",
       "      <td>2001</td>\n",
       "      <td>manual</td>\n",
       "      <td>75</td>\n",
       "      <td>golf</td>\n",
       "      <td>150000</td>\n",
       "      <td>6</td>\n",
       "      <td>petrol</td>\n",
       "      <td>volkswagen</td>\n",
       "      <td>no</td>\n",
       "      <td>17/03/2016 00:00</td>\n",
       "      <td>0</td>\n",
       "      <td>91074</td>\n",
       "      <td>17/03/2016 17:40</td>\n",
       "    </tr>\n",
       "    <tr>\n",
       "      <td>4</td>\n",
       "      <td>31/03/2016 17:25</td>\n",
       "      <td>3600</td>\n",
       "      <td>small</td>\n",
       "      <td>2008</td>\n",
       "      <td>manual</td>\n",
       "      <td>69</td>\n",
       "      <td>fabia</td>\n",
       "      <td>90000</td>\n",
       "      <td>7</td>\n",
       "      <td>gasoline</td>\n",
       "      <td>skoda</td>\n",
       "      <td>no</td>\n",
       "      <td>31/03/2016 00:00</td>\n",
       "      <td>0</td>\n",
       "      <td>60437</td>\n",
       "      <td>06/04/2016 10:17</td>\n",
       "    </tr>\n",
       "  </tbody>\n",
       "</table>\n",
       "</div>"
      ],
      "text/plain": [
       "        DateCrawled  Price VehicleType  RegistrationYear Gearbox  Power  \\\n",
       "0  24/03/2016 11:52    480         NaN              1993  manual      0   \n",
       "1  24/03/2016 10:58  18300       coupe              2011  manual    190   \n",
       "2  14/03/2016 12:52   9800         suv              2004    auto    163   \n",
       "3  17/03/2016 16:54   1500       small              2001  manual     75   \n",
       "4  31/03/2016 17:25   3600       small              2008  manual     69   \n",
       "\n",
       "   Model  Mileage  RegistrationMonth  FuelType       Brand NotRepaired  \\\n",
       "0   golf   150000                  0    petrol  volkswagen         NaN   \n",
       "1    NaN   125000                  5  gasoline        audi         yes   \n",
       "2  grand   125000                  8  gasoline        jeep         NaN   \n",
       "3   golf   150000                  6    petrol  volkswagen          no   \n",
       "4  fabia    90000                  7  gasoline       skoda          no   \n",
       "\n",
       "        DateCreated  NumberOfPictures  PostalCode          LastSeen  \n",
       "0  24/03/2016 00:00                 0       70435  07/04/2016 03:16  \n",
       "1  24/03/2016 00:00                 0       66954  07/04/2016 01:46  \n",
       "2  14/03/2016 00:00                 0       90480  05/04/2016 12:47  \n",
       "3  17/03/2016 00:00                 0       91074  17/03/2016 17:40  \n",
       "4  31/03/2016 00:00                 0       60437  06/04/2016 10:17  "
      ]
     },
     "execution_count": 3,
     "metadata": {},
     "output_type": "execute_result"
    }
   ],
   "source": [
    "df.head()"
   ]
  },
  {
   "cell_type": "code",
   "execution_count": 4,
   "metadata": {},
   "outputs": [],
   "source": [
    "df.columns = df.columns.str.lower()"
   ]
  },
  {
   "cell_type": "code",
   "execution_count": 5,
   "metadata": {},
   "outputs": [
    {
     "name": "stdout",
     "output_type": "stream",
     "text": [
      "<class 'pandas.core.frame.DataFrame'>\n",
      "RangeIndex: 354369 entries, 0 to 354368\n",
      "Data columns (total 16 columns):\n",
      "datecrawled          354369 non-null object\n",
      "price                354369 non-null int64\n",
      "vehicletype          316879 non-null object\n",
      "registrationyear     354369 non-null int64\n",
      "gearbox              334536 non-null object\n",
      "power                354369 non-null int64\n",
      "model                334664 non-null object\n",
      "mileage              354369 non-null int64\n",
      "registrationmonth    354369 non-null int64\n",
      "fueltype             321474 non-null object\n",
      "brand                354369 non-null object\n",
      "notrepaired          283215 non-null object\n",
      "datecreated          354369 non-null object\n",
      "numberofpictures     354369 non-null int64\n",
      "postalcode           354369 non-null int64\n",
      "lastseen             354369 non-null object\n",
      "dtypes: int64(7), object(9)\n",
      "memory usage: 43.3+ MB\n"
     ]
    }
   ],
   "source": [
    "df.info()"
   ]
  },
  {
   "cell_type": "code",
   "execution_count": 6,
   "metadata": {},
   "outputs": [],
   "source": [
    "# Count of Null Values by column\n",
    "\n",
    "df.isna().sum().sort_values(ascending=False)\n",
    "\n",
    "df = df.dropna()"
   ]
  },
  {
   "cell_type": "markdown",
   "metadata": {},
   "source": [
    "- Since all columns with nulls are of the dtype: object, we cannot use a mean or median to replace them, so they get dropped"
   ]
  },
  {
   "cell_type": "code",
   "execution_count": 7,
   "metadata": {},
   "outputs": [
    {
     "name": "stdout",
     "output_type": "stream",
     "text": [
      "Before drop: 247\n",
      "After drop: 0\n"
     ]
    }
   ],
   "source": [
    "# Checking for duplicate rows\n",
    "print('Before drop:', df.duplicated().sum())\n",
    "\n",
    "# drop duplicate rows\n",
    "\n",
    "df = df.drop_duplicates()\n",
    "print('After drop:', df.duplicated().sum())\n"
   ]
  },
  {
   "cell_type": "code",
   "execution_count": 8,
   "metadata": {},
   "outputs": [
    {
     "data": {
      "text/plain": [
       "Index(['datecrawled', 'price', 'vehicletype', 'registrationyear', 'gearbox',\n",
       "       'power', 'model', 'mileage', 'registrationmonth', 'fueltype', 'brand',\n",
       "       'notrepaired', 'datecreated', 'numberofpictures', 'postalcode',\n",
       "       'lastseen'],\n",
       "      dtype='object')"
      ]
     },
     "execution_count": 8,
     "metadata": {},
     "output_type": "execute_result"
    }
   ],
   "source": [
    "df.columns"
   ]
  },
  {
   "cell_type": "code",
   "execution_count": 9,
   "metadata": {},
   "outputs": [
    {
     "data": {
      "text/html": [
       "<div>\n",
       "<style scoped>\n",
       "    .dataframe tbody tr th:only-of-type {\n",
       "        vertical-align: middle;\n",
       "    }\n",
       "\n",
       "    .dataframe tbody tr th {\n",
       "        vertical-align: top;\n",
       "    }\n",
       "\n",
       "    .dataframe thead th {\n",
       "        text-align: right;\n",
       "    }\n",
       "</style>\n",
       "<table border=\"1\" class=\"dataframe\">\n",
       "  <thead>\n",
       "    <tr style=\"text-align: right;\">\n",
       "      <th></th>\n",
       "      <th>price</th>\n",
       "      <th>registrationyear</th>\n",
       "      <th>power</th>\n",
       "      <th>mileage</th>\n",
       "      <th>registrationmonth</th>\n",
       "      <th>numberofpictures</th>\n",
       "      <th>postalcode</th>\n",
       "    </tr>\n",
       "  </thead>\n",
       "  <tbody>\n",
       "    <tr>\n",
       "      <td>count</td>\n",
       "      <td>245567.000000</td>\n",
       "      <td>245567.000000</td>\n",
       "      <td>245567.000000</td>\n",
       "      <td>245567.000000</td>\n",
       "      <td>245567.000000</td>\n",
       "      <td>245567.0</td>\n",
       "      <td>245567.000000</td>\n",
       "    </tr>\n",
       "    <tr>\n",
       "      <td>mean</td>\n",
       "      <td>5125.680959</td>\n",
       "      <td>2002.918287</td>\n",
       "      <td>119.971796</td>\n",
       "      <td>127297.112397</td>\n",
       "      <td>6.179401</td>\n",
       "      <td>0.0</td>\n",
       "      <td>51462.385259</td>\n",
       "    </tr>\n",
       "    <tr>\n",
       "      <td>std</td>\n",
       "      <td>4718.468928</td>\n",
       "      <td>6.164689</td>\n",
       "      <td>139.448062</td>\n",
       "      <td>37079.536493</td>\n",
       "      <td>3.479783</td>\n",
       "      <td>0.0</td>\n",
       "      <td>25839.798492</td>\n",
       "    </tr>\n",
       "    <tr>\n",
       "      <td>min</td>\n",
       "      <td>0.000000</td>\n",
       "      <td>1910.000000</td>\n",
       "      <td>0.000000</td>\n",
       "      <td>5000.000000</td>\n",
       "      <td>0.000000</td>\n",
       "      <td>0.0</td>\n",
       "      <td>1067.000000</td>\n",
       "    </tr>\n",
       "    <tr>\n",
       "      <td>25%</td>\n",
       "      <td>1499.000000</td>\n",
       "      <td>1999.000000</td>\n",
       "      <td>75.000000</td>\n",
       "      <td>125000.000000</td>\n",
       "      <td>3.000000</td>\n",
       "      <td>0.0</td>\n",
       "      <td>30966.000000</td>\n",
       "    </tr>\n",
       "    <tr>\n",
       "      <td>50%</td>\n",
       "      <td>3500.000000</td>\n",
       "      <td>2003.000000</td>\n",
       "      <td>110.000000</td>\n",
       "      <td>150000.000000</td>\n",
       "      <td>6.000000</td>\n",
       "      <td>0.0</td>\n",
       "      <td>50767.000000</td>\n",
       "    </tr>\n",
       "    <tr>\n",
       "      <td>75%</td>\n",
       "      <td>7500.000000</td>\n",
       "      <td>2007.000000</td>\n",
       "      <td>150.000000</td>\n",
       "      <td>150000.000000</td>\n",
       "      <td>9.000000</td>\n",
       "      <td>0.0</td>\n",
       "      <td>72379.000000</td>\n",
       "    </tr>\n",
       "    <tr>\n",
       "      <td>max</td>\n",
       "      <td>20000.000000</td>\n",
       "      <td>2018.000000</td>\n",
       "      <td>20000.000000</td>\n",
       "      <td>150000.000000</td>\n",
       "      <td>12.000000</td>\n",
       "      <td>0.0</td>\n",
       "      <td>99998.000000</td>\n",
       "    </tr>\n",
       "  </tbody>\n",
       "</table>\n",
       "</div>"
      ],
      "text/plain": [
       "               price  registrationyear          power        mileage  \\\n",
       "count  245567.000000     245567.000000  245567.000000  245567.000000   \n",
       "mean     5125.680959       2002.918287     119.971796  127297.112397   \n",
       "std      4718.468928          6.164689     139.448062   37079.536493   \n",
       "min         0.000000       1910.000000       0.000000    5000.000000   \n",
       "25%      1499.000000       1999.000000      75.000000  125000.000000   \n",
       "50%      3500.000000       2003.000000     110.000000  150000.000000   \n",
       "75%      7500.000000       2007.000000     150.000000  150000.000000   \n",
       "max     20000.000000       2018.000000   20000.000000  150000.000000   \n",
       "\n",
       "       registrationmonth  numberofpictures     postalcode  \n",
       "count      245567.000000          245567.0  245567.000000  \n",
       "mean            6.179401               0.0   51462.385259  \n",
       "std             3.479783               0.0   25839.798492  \n",
       "min             0.000000               0.0    1067.000000  \n",
       "25%             3.000000               0.0   30966.000000  \n",
       "50%             6.000000               0.0   50767.000000  \n",
       "75%             9.000000               0.0   72379.000000  \n",
       "max            12.000000               0.0   99998.000000  "
      ]
     },
     "execution_count": 9,
     "metadata": {},
     "output_type": "execute_result"
    }
   ],
   "source": [
    "df.describe()"
   ]
  },
  {
   "cell_type": "markdown",
   "metadata": {},
   "source": [
    "- Since the numberofpictures column only contains values of zero, it is constant and will have no effect on the model performance, therefore it can be dropped"
   ]
  },
  {
   "cell_type": "code",
   "execution_count": 10,
   "metadata": {},
   "outputs": [],
   "source": [
    "drops = ['datecrawled', 'datecreated', 'lastseen', 'numberofpictures']\n",
    "\n",
    "df = df.drop(drops, axis=1)"
   ]
  },
  {
   "cell_type": "code",
   "execution_count": 11,
   "metadata": {},
   "outputs": [
    {
     "name": "stdout",
     "output_type": "stream",
     "text": [
      "<class 'pandas.core.frame.DataFrame'>\n",
      "Int64Index: 245567 entries, 3 to 354367\n",
      "Data columns (total 12 columns):\n",
      "price                245567 non-null int64\n",
      "vehicletype          245567 non-null object\n",
      "registrationyear     245567 non-null int64\n",
      "gearbox              245567 non-null object\n",
      "power                245567 non-null int64\n",
      "model                245567 non-null object\n",
      "mileage              245567 non-null int64\n",
      "registrationmonth    245567 non-null int64\n",
      "fueltype             245567 non-null object\n",
      "brand                245567 non-null object\n",
      "notrepaired          245567 non-null object\n",
      "postalcode           245567 non-null int64\n",
      "dtypes: int64(6), object(6)\n",
      "memory usage: 24.4+ MB\n"
     ]
    }
   ],
   "source": [
    "df.info()"
   ]
  },
  {
   "cell_type": "code",
   "execution_count": 12,
   "metadata": {},
   "outputs": [
    {
     "data": {
      "text/plain": [
       "Text(0, 0.5, 'Frequency')"
      ]
     },
     "execution_count": 12,
     "metadata": {},
     "output_type": "execute_result"
    },
    {
     "data": {
      "image/png": "[encoded data removed]",
      "text/plain": [
       "<Figure size 432x288 with 1 Axes>"
      ]
     },
     "metadata": {
      "needs_background": "light"
     },
     "output_type": "display_data"
    }
   ],
   "source": [
    "df['price'].hist(bins=40)\n",
    "plt.title('Car Prices')\n",
    "plt.xlabel('Price')\n",
    "plt.ylabel('Frequency')"
   ]
  },
  {
   "cell_type": "code",
   "execution_count": 13,
   "metadata": {},
   "outputs": [
    {
     "name": "stdout",
     "output_type": "stream",
     "text": [
      "3386\n",
      "0.0138\n"
     ]
    }
   ],
   "source": [
    "p0 = df['price'] == 0\n",
    "print(p0.sum())\n",
    "print(round(p0.sum() / len(p0), 4))"
   ]
  },
  {
   "cell_type": "markdown",
   "metadata": {},
   "source": [
    "- Looking at the distribution of price, there is a clear majority of vehicles sold at lower prices\n",
    "- About 3400 cars are listed for free, which is approximately 1.3% of all the cars we have in the data\n",
    "- The consistent steps up and down show that many listings are at even numbers at multiples of (100, 500, 1000)"
   ]
  },
  {
   "cell_type": "code",
   "execution_count": 14,
   "metadata": {},
   "outputs": [
    {
     "data": {
      "text/html": [
       "<div>\n",
       "<style scoped>\n",
       "    .dataframe tbody tr th:only-of-type {\n",
       "        vertical-align: middle;\n",
       "    }\n",
       "\n",
       "    .dataframe tbody tr th {\n",
       "        vertical-align: top;\n",
       "    }\n",
       "\n",
       "    .dataframe thead th {\n",
       "        text-align: right;\n",
       "    }\n",
       "</style>\n",
       "<table border=\"1\" class=\"dataframe\">\n",
       "  <thead>\n",
       "    <tr style=\"text-align: right;\">\n",
       "      <th></th>\n",
       "      <th>price</th>\n",
       "      <th>vehicletype</th>\n",
       "      <th>registrationyear</th>\n",
       "      <th>gearbox</th>\n",
       "      <th>power</th>\n",
       "      <th>model</th>\n",
       "      <th>mileage</th>\n",
       "      <th>registrationmonth</th>\n",
       "      <th>fueltype</th>\n",
       "      <th>brand</th>\n",
       "      <th>notrepaired</th>\n",
       "      <th>postalcode</th>\n",
       "    </tr>\n",
       "  </thead>\n",
       "  <tbody>\n",
       "    <tr>\n",
       "      <td>3</td>\n",
       "      <td>1500</td>\n",
       "      <td>small</td>\n",
       "      <td>2001</td>\n",
       "      <td>manual</td>\n",
       "      <td>75</td>\n",
       "      <td>golf</td>\n",
       "      <td>150000</td>\n",
       "      <td>6</td>\n",
       "      <td>petrol</td>\n",
       "      <td>volkswagen</td>\n",
       "      <td>no</td>\n",
       "      <td>91074</td>\n",
       "    </tr>\n",
       "    <tr>\n",
       "      <td>4</td>\n",
       "      <td>3600</td>\n",
       "      <td>small</td>\n",
       "      <td>2008</td>\n",
       "      <td>manual</td>\n",
       "      <td>69</td>\n",
       "      <td>fabia</td>\n",
       "      <td>90000</td>\n",
       "      <td>7</td>\n",
       "      <td>gasoline</td>\n",
       "      <td>skoda</td>\n",
       "      <td>no</td>\n",
       "      <td>60437</td>\n",
       "    </tr>\n",
       "    <tr>\n",
       "      <td>5</td>\n",
       "      <td>650</td>\n",
       "      <td>sedan</td>\n",
       "      <td>1995</td>\n",
       "      <td>manual</td>\n",
       "      <td>102</td>\n",
       "      <td>3er</td>\n",
       "      <td>150000</td>\n",
       "      <td>10</td>\n",
       "      <td>petrol</td>\n",
       "      <td>bmw</td>\n",
       "      <td>yes</td>\n",
       "      <td>33775</td>\n",
       "    </tr>\n",
       "    <tr>\n",
       "      <td>6</td>\n",
       "      <td>2200</td>\n",
       "      <td>convertible</td>\n",
       "      <td>2004</td>\n",
       "      <td>manual</td>\n",
       "      <td>109</td>\n",
       "      <td>2_reihe</td>\n",
       "      <td>150000</td>\n",
       "      <td>8</td>\n",
       "      <td>petrol</td>\n",
       "      <td>peugeot</td>\n",
       "      <td>no</td>\n",
       "      <td>67112</td>\n",
       "    </tr>\n",
       "    <tr>\n",
       "      <td>7</td>\n",
       "      <td>0</td>\n",
       "      <td>sedan</td>\n",
       "      <td>1980</td>\n",
       "      <td>manual</td>\n",
       "      <td>50</td>\n",
       "      <td>other</td>\n",
       "      <td>40000</td>\n",
       "      <td>7</td>\n",
       "      <td>petrol</td>\n",
       "      <td>volkswagen</td>\n",
       "      <td>no</td>\n",
       "      <td>19348</td>\n",
       "    </tr>\n",
       "  </tbody>\n",
       "</table>\n",
       "</div>"
      ],
      "text/plain": [
       "   price  vehicletype  registrationyear gearbox  power    model  mileage  \\\n",
       "3   1500        small              2001  manual     75     golf   150000   \n",
       "4   3600        small              2008  manual     69    fabia    90000   \n",
       "5    650        sedan              1995  manual    102      3er   150000   \n",
       "6   2200  convertible              2004  manual    109  2_reihe   150000   \n",
       "7      0        sedan              1980  manual     50    other    40000   \n",
       "\n",
       "   registrationmonth  fueltype       brand notrepaired  postalcode  \n",
       "3                  6    petrol  volkswagen          no       91074  \n",
       "4                  7  gasoline       skoda          no       60437  \n",
       "5                 10    petrol         bmw         yes       33775  \n",
       "6                  8    petrol     peugeot          no       67112  \n",
       "7                  7    petrol  volkswagen          no       19348  "
      ]
     },
     "execution_count": 14,
     "metadata": {},
     "output_type": "execute_result"
    }
   ],
   "source": [
    "df.head()"
   ]
  },
  {
   "cell_type": "markdown",
   "metadata": {},
   "source": [
    "## Model Building:\n",
    "- Track speed with the time library\n",
    "- Metric for scoring is RMSE\n",
    "---"
   ]
  },
  {
   "cell_type": "markdown",
   "metadata": {},
   "source": [
    "#### Splitting the data:"
   ]
  },
  {
   "cell_type": "code",
   "execution_count": 15,
   "metadata": {},
   "outputs": [
    {
     "data": {
      "text/plain": [
       "price                   int64\n",
       "vehicletype          category\n",
       "registrationyear        int64\n",
       "gearbox              category\n",
       "power                   int64\n",
       "model                category\n",
       "mileage                 int64\n",
       "registrationmonth       int64\n",
       "fueltype             category\n",
       "brand                category\n",
       "notrepaired          category\n",
       "postalcode              int64\n",
       "dtype: object"
      ]
     },
     "execution_count": 15,
     "metadata": {},
     "output_type": "execute_result"
    }
   ],
   "source": [
    "# converting dtypes of features from Object to Categorical (should help speed up CatBoost model)\n",
    "\n",
    "df.dtypes\n",
    "df[['vehicletype', 'gearbox', 'model', 'fueltype', 'brand', 'notrepaired']] = df[['vehicletype', 'gearbox', 'model', 'fueltype', 'brand', 'notrepaired']].astype('category')\n",
    "df.dtypes"
   ]
  },
  {
   "cell_type": "code",
   "execution_count": 16,
   "metadata": {},
   "outputs": [
    {
     "name": "stdout",
     "output_type": "stream",
     "text": [
      "Shapes with Categorical Features\n",
      "(147340, 11)\n",
      "(49113, 11)\n",
      "(49114, 11)\n",
      "(147340,)\n",
      "(49113,)\n",
      "(49114,)\n",
      "-----\n",
      "Label Encoded Shapes\n",
      "(147340, 11)\n",
      "(49113, 11)\n",
      "(49114, 11)\n",
      "(147340,)\n",
      "(49113,)\n",
      "(49114,)\n"
     ]
    },
    {
     "data": {
      "text/html": [
       "<div>\n",
       "<style scoped>\n",
       "    .dataframe tbody tr th:only-of-type {\n",
       "        vertical-align: middle;\n",
       "    }\n",
       "\n",
       "    .dataframe tbody tr th {\n",
       "        vertical-align: top;\n",
       "    }\n",
       "\n",
       "    .dataframe thead th {\n",
       "        text-align: right;\n",
       "    }\n",
       "</style>\n",
       "<table border=\"1\" class=\"dataframe\">\n",
       "  <thead>\n",
       "    <tr style=\"text-align: right;\">\n",
       "      <th></th>\n",
       "      <th>registrationyear</th>\n",
       "      <th>power</th>\n",
       "      <th>mileage</th>\n",
       "      <th>registrationmonth</th>\n",
       "      <th>postalcode</th>\n",
       "      <th>vehicletype_enc</th>\n",
       "      <th>gearbox_enc</th>\n",
       "      <th>model_enc</th>\n",
       "      <th>fueltype_enc</th>\n",
       "      <th>brand_enc</th>\n",
       "      <th>notrepaired_enc</th>\n",
       "    </tr>\n",
       "  </thead>\n",
       "  <tbody>\n",
       "    <tr>\n",
       "      <td>315708</td>\n",
       "      <td>2010</td>\n",
       "      <td>143</td>\n",
       "      <td>150000</td>\n",
       "      <td>5</td>\n",
       "      <td>55288</td>\n",
       "      <td>7</td>\n",
       "      <td>1</td>\n",
       "      <td>29</td>\n",
       "      <td>2</td>\n",
       "      <td>1</td>\n",
       "      <td>0</td>\n",
       "    </tr>\n",
       "    <tr>\n",
       "      <td>128292</td>\n",
       "      <td>1997</td>\n",
       "      <td>150</td>\n",
       "      <td>150000</td>\n",
       "      <td>6</td>\n",
       "      <td>31177</td>\n",
       "      <td>4</td>\n",
       "      <td>1</td>\n",
       "      <td>15</td>\n",
       "      <td>6</td>\n",
       "      <td>2</td>\n",
       "      <td>1</td>\n",
       "    </tr>\n",
       "    <tr>\n",
       "      <td>18696</td>\n",
       "      <td>2000</td>\n",
       "      <td>0</td>\n",
       "      <td>150000</td>\n",
       "      <td>6</td>\n",
       "      <td>40822</td>\n",
       "      <td>5</td>\n",
       "      <td>1</td>\n",
       "      <td>83</td>\n",
       "      <td>6</td>\n",
       "      <td>24</td>\n",
       "      <td>0</td>\n",
       "    </tr>\n",
       "    <tr>\n",
       "      <td>170011</td>\n",
       "      <td>2007</td>\n",
       "      <td>131</td>\n",
       "      <td>150000</td>\n",
       "      <td>2</td>\n",
       "      <td>55129</td>\n",
       "      <td>0</td>\n",
       "      <td>1</td>\n",
       "      <td>223</td>\n",
       "      <td>2</td>\n",
       "      <td>37</td>\n",
       "      <td>0</td>\n",
       "    </tr>\n",
       "    <tr>\n",
       "      <td>96779</td>\n",
       "      <td>1999</td>\n",
       "      <td>75</td>\n",
       "      <td>150000</td>\n",
       "      <td>10</td>\n",
       "      <td>36369</td>\n",
       "      <td>7</td>\n",
       "      <td>1</td>\n",
       "      <td>59</td>\n",
       "      <td>2</td>\n",
       "      <td>20</td>\n",
       "      <td>0</td>\n",
       "    </tr>\n",
       "  </tbody>\n",
       "</table>\n",
       "</div>"
      ],
      "text/plain": [
       "        registrationyear  power  mileage  registrationmonth  postalcode  \\\n",
       "315708              2010    143   150000                  5       55288   \n",
       "128292              1997    150   150000                  6       31177   \n",
       "18696               2000      0   150000                  6       40822   \n",
       "170011              2007    131   150000                  2       55129   \n",
       "96779               1999     75   150000                 10       36369   \n",
       "\n",
       "        vehicletype_enc  gearbox_enc  model_enc  fueltype_enc  brand_enc  \\\n",
       "315708                7            1         29             2          1   \n",
       "128292                4            1         15             6          2   \n",
       "18696                 5            1         83             6         24   \n",
       "170011                0            1        223             2         37   \n",
       "96779                 7            1         59             2         20   \n",
       "\n",
       "        notrepaired_enc  \n",
       "315708                0  \n",
       "128292                1  \n",
       "18696                 0  \n",
       "170011                0  \n",
       "96779                 0  "
      ]
     },
     "execution_count": 16,
     "metadata": {},
     "output_type": "execute_result"
    }
   ],
   "source": [
    "features = df.drop('price', axis=1)\n",
    "target = df['price']\n",
    "\n",
    "x_train, xv, y_train, yv = train_test_split(features, target, test_size=0.4, random_state=123)\n",
    "x_val, x_test, y_val, y_test = train_test_split(xv, yv, test_size=0.5, random_state=123)\n",
    "\n",
    "# Copying each set to encode\n",
    "enc_xt = x_train.copy()\n",
    "enc_yt = y_train.copy()\n",
    "enc_xv = x_val.copy()\n",
    "enc_yv = y_val.copy()\n",
    "enc_xtest = x_test.copy()\n",
    "enc_ytest = y_test.copy()\n",
    "\n",
    "# Encoding\n",
    "to_encode = ['vehicletype', 'gearbox', 'model', 'fueltype', 'brand', 'notrepaired']\n",
    "\n",
    "for i in to_encode:\n",
    "    enc_xt[i + '_enc'] = LabelEncoder().fit_transform(enc_xt[i])\n",
    "    enc_xt = enc_xt.drop(i, axis=1)\n",
    "    enc_xv[i + '_enc'] = LabelEncoder().fit_transform(enc_xv[i])\n",
    "    enc_xv = enc_xv.drop(i, axis=1)\n",
    "    enc_xtest[i + '_enc'] = LabelEncoder().fit_transform(enc_xtest[i]) \n",
    "    enc_xtest = enc_xtest.drop(i, axis=1)\n",
    "\n",
    "print('Shapes with Categorical Features')\n",
    "print(x_train.shape)\n",
    "print(x_val.shape)\n",
    "print(x_test.shape)\n",
    "print(y_train.shape)\n",
    "print(y_val.shape)\n",
    "print(y_test.shape)\n",
    "print('-----')\n",
    "print('Label Encoded Shapes')\n",
    "print(enc_xt.shape)\n",
    "print(enc_xv.shape)\n",
    "print(enc_xtest.shape)\n",
    "print(enc_yt.shape)\n",
    "print(enc_yv.shape)\n",
    "print(enc_ytest.shape)\n",
    "enc_xt.head()"
   ]
  },
  {
   "cell_type": "code",
   "execution_count": 17,
   "metadata": {},
   "outputs": [],
   "source": [
    "# Setting up function to time cells and save to a variable\n",
    "\n",
    "def my_time(start, end):\n",
    "    diff_time = end - start\n",
    "    return round(diff_time, 4)"
   ]
  },
  {
   "cell_type": "markdown",
   "metadata": {},
   "source": [
    "### Linear Regression:\n",
    "---"
   ]
  },
  {
   "cell_type": "code",
   "execution_count": 18,
   "metadata": {},
   "outputs": [
    {
     "name": "stdout",
     "output_type": "stream",
     "text": [
      "Time to Train: 0.0376\n"
     ]
    }
   ],
   "source": [
    "lr_start = time.time()\n",
    "\n",
    "lr = LinearRegression()\n",
    "lr.fit(enc_xt, enc_yt)\n",
    "\n",
    "lr_end = time.time()\n",
    "lr_time = my_time(lr_start, lr_end)\n",
    "print('Time to Train:', lr_time)"
   ]
  },
  {
   "cell_type": "code",
   "execution_count": 19,
   "metadata": {},
   "outputs": [
    {
     "name": "stdout",
     "output_type": "stream",
     "text": [
      "Linear Regression:\n",
      "    Validation RMSE: 3363.7231132277816\n",
      "    Test RMSE: 3331.4367769814703\n"
     ]
    }
   ],
   "source": [
    "lr_pred_val = lr.predict(enc_xv)\n",
    "lr_mse = mean_squared_error(enc_yv, lr_pred_val)\n",
    "\n",
    "lr_pred_test = lr.predict(enc_xtest)\n",
    "lr_mse2 = mean_squared_error(enc_ytest, lr_pred_test)\n",
    "\n",
    "print('Linear Regression:')\n",
    "print('    Validation RMSE:', np.sqrt(lr_mse))\n",
    "print('    Test RMSE:', np.sqrt(lr_mse2))"
   ]
  },
  {
   "cell_type": "markdown",
   "metadata": {},
   "source": [
    "### Random Forest:\n",
    "---"
   ]
  },
  {
   "cell_type": "code",
   "execution_count": 20,
   "metadata": {},
   "outputs": [
    {
     "name": "stderr",
     "output_type": "stream",
     "text": [
      "/opt/conda/lib/python3.7/site-packages/sklearn/ensemble/forest.py:245: FutureWarning: The default value of n_estimators will change from 10 in version 0.20 to 100 in 0.22.\n",
      "  \"10 in version 0.20 to 100 in 0.22.\", FutureWarning)\n"
     ]
    },
    {
     "name": "stdout",
     "output_type": "stream",
     "text": [
      "depth: 19 Validation RMSE: 1742.2168500660391\n",
      "\n"
     ]
    },
    {
     "name": "stderr",
     "output_type": "stream",
     "text": [
      "/opt/conda/lib/python3.7/site-packages/sklearn/ensemble/forest.py:245: FutureWarning: The default value of n_estimators will change from 10 in version 0.20 to 100 in 0.22.\n",
      "  \"10 in version 0.20 to 100 in 0.22.\", FutureWarning)\n"
     ]
    },
    {
     "name": "stdout",
     "output_type": "stream",
     "text": [
      "depth: 20 Validation RMSE: 1739.0625393291998\n",
      "\n"
     ]
    },
    {
     "name": "stderr",
     "output_type": "stream",
     "text": [
      "/opt/conda/lib/python3.7/site-packages/sklearn/ensemble/forest.py:245: FutureWarning: The default value of n_estimators will change from 10 in version 0.20 to 100 in 0.22.\n",
      "  \"10 in version 0.20 to 100 in 0.22.\", FutureWarning)\n"
     ]
    },
    {
     "name": "stdout",
     "output_type": "stream",
     "text": [
      "depth: 21 Validation RMSE: 1741.740710846312\n",
      "\n"
     ]
    }
   ],
   "source": [
    "# tuning max_depth\n",
    "\n",
    "for i in range(19, 22, 1):\n",
    "    rf_it = RandomForestRegressor(random_state=1234, max_depth=i)\n",
    "    rf_it.fit(enc_xt, enc_yt)\n",
    "    p = rf_it.predict(enc_xv)\n",
    "    msq = mean_squared_error(enc_yv, p)\n",
    "    print('depth:', i, 'Validation RMSE:', np.sqrt(msq))\n",
    "    print('')"
   ]
  },
  {
   "cell_type": "code",
   "execution_count": 21,
   "metadata": {},
   "outputs": [
    {
     "name": "stderr",
     "output_type": "stream",
     "text": [
      "/opt/conda/lib/python3.7/site-packages/sklearn/ensemble/forest.py:245: FutureWarning: The default value of n_estimators will change from 10 in version 0.20 to 100 in 0.22.\n",
      "  \"10 in version 0.20 to 100 in 0.22.\", FutureWarning)\n"
     ]
    },
    {
     "data": {
      "text/plain": [
       "5.9162"
      ]
     },
     "execution_count": 21,
     "metadata": {},
     "output_type": "execute_result"
    }
   ],
   "source": [
    "rf_start = time.time()\n",
    "\n",
    "rf = RandomForestRegressor(random_state=123, max_depth=20)\n",
    "rf.fit(enc_xt, enc_yt)\n",
    "\n",
    "rf_end = time.time()\n",
    "rf_time = my_time(rf_start, rf_end)\n",
    "rf_time"
   ]
  },
  {
   "cell_type": "code",
   "execution_count": 22,
   "metadata": {},
   "outputs": [
    {
     "name": "stdout",
     "output_type": "stream",
     "text": [
      "Random Forest Test RMSE: 1762.5767311601335\n"
     ]
    }
   ],
   "source": [
    "rf_p = rf.predict(enc_xtest)\n",
    "rf_mse = mean_squared_error(enc_ytest, rf_p)\n",
    "print('Random Forest Test RMSE:', np.sqrt(rf_mse))"
   ]
  },
  {
   "cell_type": "markdown",
   "metadata": {},
   "source": [
    "### LightGBM:\n",
    "---"
   ]
  },
  {
   "cell_type": "code",
   "execution_count": 23,
   "metadata": {},
   "outputs": [
    {
     "name": "stdout",
     "output_type": "stream",
     "text": [
      "depth: 18 Validation RMSE: 1768.5061649331371\n",
      "\n",
      "depth: 19 Validation RMSE: 1767.0290438438149\n",
      "\n",
      "depth: 20 Validation RMSE: 1767.0290438438149\n",
      "\n"
     ]
    }
   ],
   "source": [
    "# tuning max_depth\n",
    "\n",
    "for i in range(18, 21):\n",
    "    lg_it = lgb.LGBMRegressor(max_depth=i, random_state=1234)\n",
    "    lg_it.fit(enc_xt, enc_yt)\n",
    "    p = lg_it.predict(enc_xv)\n",
    "    msq = mean_squared_error(enc_yv, p)\n",
    "    print('depth:', i, 'Validation RMSE:', np.sqrt(msq))\n",
    "    print('')\n",
    "    "
   ]
  },
  {
   "cell_type": "code",
   "execution_count": 24,
   "metadata": {},
   "outputs": [
    {
     "name": "stdout",
     "output_type": "stream",
     "text": [
      "leaves: 57 Validation RMSE: 1722.3458633264438\n",
      "\n",
      "leaves: 58 Validation RMSE: 1719.7686084532527\n",
      "\n",
      "leaves: 59 Validation RMSE: 1727.5885482556405\n",
      "\n"
     ]
    }
   ],
   "source": [
    "# tuning num_leaves\n",
    "\n",
    "for i in range(57, 60):\n",
    "    lg_it = lgb.LGBMRegressor(max_depth=19, num_leaves=i, random_state=1234)\n",
    "    lg_it.fit(enc_xt, enc_yt)\n",
    "    p = lg_it.predict(enc_xv)\n",
    "    msq = mean_squared_error(enc_yv, p)\n",
    "    print('leaves:', i, 'Validation RMSE:', np.sqrt(msq))\n",
    "    print('')"
   ]
  },
  {
   "cell_type": "code",
   "execution_count": 25,
   "metadata": {},
   "outputs": [
    {
     "data": {
      "text/plain": [
       "11.7821"
      ]
     },
     "execution_count": 25,
     "metadata": {},
     "output_type": "execute_result"
    }
   ],
   "source": [
    "lg_start = time.time()\n",
    "\n",
    "# Final Parameters\n",
    "# Depth = 19\n",
    "# num_leaves = 58\n",
    "\n",
    "# FINAL LGBM:\n",
    "\n",
    "lg = lgb.LGBMRegressor(max_depth=24, num_leaves=58, random_state=1234)\n",
    "lg.fit(enc_xt, enc_yt)\n",
    "\n",
    "lg_end = time.time()\n",
    "lg_time = my_time(lg_start, lg_end)\n",
    "lg_time"
   ]
  },
  {
   "cell_type": "code",
   "execution_count": 26,
   "metadata": {},
   "outputs": [
    {
     "name": "stdout",
     "output_type": "stream",
     "text": [
      "LightGBM Test RMSE: 1736.308449360193\n"
     ]
    }
   ],
   "source": [
    "lg_p = lg.predict(enc_xtest)\n",
    "lg_mse = mean_squared_error(enc_ytest, lg_p)\n",
    "print('LightGBM Test RMSE:', np.sqrt(lg_mse))"
   ]
  },
  {
   "cell_type": "markdown",
   "metadata": {},
   "source": [
    "### XGBoost:\n",
    "---"
   ]
  },
  {
   "cell_type": "code",
   "execution_count": 27,
   "metadata": {},
   "outputs": [
    {
     "name": "stderr",
     "output_type": "stream",
     "text": [
      "/opt/conda/lib/python3.7/site-packages/xgboost/core.py:587: FutureWarning: Series.base is deprecated and will be removed in a future version\n",
      "  if getattr(data, 'base', None) is not None and \\\n"
     ]
    },
    {
     "name": "stdout",
     "output_type": "stream",
     "text": [
      "depth: 3 Validation RMSE: 1966.0161235465569\n",
      "\n"
     ]
    },
    {
     "name": "stderr",
     "output_type": "stream",
     "text": [
      "/opt/conda/lib/python3.7/site-packages/xgboost/core.py:587: FutureWarning: Series.base is deprecated and will be removed in a future version\n",
      "  if getattr(data, 'base', None) is not None and \\\n"
     ]
    },
    {
     "name": "stdout",
     "output_type": "stream",
     "text": [
      "depth: 4 Validation RMSE: 1874.1809543731251\n",
      "\n"
     ]
    },
    {
     "name": "stderr",
     "output_type": "stream",
     "text": [
      "/opt/conda/lib/python3.7/site-packages/xgboost/core.py:587: FutureWarning: Series.base is deprecated and will be removed in a future version\n",
      "  if getattr(data, 'base', None) is not None and \\\n"
     ]
    },
    {
     "name": "stdout",
     "output_type": "stream",
     "text": [
      "depth: 5 Validation RMSE: 1811.324733559696\n",
      "\n"
     ]
    }
   ],
   "source": [
    "# tuning max_depth (default=6)\n",
    "\n",
    "for i in range(3, 6):\n",
    "    xg_it = xgb.XGBRegressor(max_depth=i, verbosity=0, random_state=1234)\n",
    "    xg_it.fit(enc_xt, enc_yt)\n",
    "    p = xg_it.predict(enc_xv)\n",
    "    msq = mean_squared_error(enc_yv, p)\n",
    "    print('depth:', i, 'Validation RMSE:', np.sqrt(msq))\n",
    "    print('')"
   ]
  },
  {
   "cell_type": "code",
   "execution_count": 28,
   "metadata": {},
   "outputs": [
    {
     "name": "stderr",
     "output_type": "stream",
     "text": [
      "/opt/conda/lib/python3.7/site-packages/xgboost/core.py:587: FutureWarning: Series.base is deprecated and will be removed in a future version\n",
      "  if getattr(data, 'base', None) is not None and \\\n"
     ]
    },
    {
     "name": "stdout",
     "output_type": "stream",
     "text": [
      "estimators: 175 Validation RMSE: 1766.11652734141\n",
      "\n"
     ]
    },
    {
     "name": "stderr",
     "output_type": "stream",
     "text": [
      "/opt/conda/lib/python3.7/site-packages/xgboost/core.py:587: FutureWarning: Series.base is deprecated and will be removed in a future version\n",
      "  if getattr(data, 'base', None) is not None and \\\n"
     ]
    },
    {
     "name": "stdout",
     "output_type": "stream",
     "text": [
      "estimators: 200 Validation RMSE: 1759.3173265175496\n",
      "\n"
     ]
    },
    {
     "name": "stderr",
     "output_type": "stream",
     "text": [
      "/opt/conda/lib/python3.7/site-packages/xgboost/core.py:587: FutureWarning: Series.base is deprecated and will be removed in a future version\n",
      "  if getattr(data, 'base', None) is not None and \\\n"
     ]
    },
    {
     "name": "stdout",
     "output_type": "stream",
     "text": [
      "estimators: 225 Validation RMSE: 1751.4791829167891\n",
      "\n"
     ]
    }
   ],
   "source": [
    "# tuning n_estimators\n",
    "\n",
    "for i in range(175, 226, 25):\n",
    "    xg_it = xgb.XGBRegressor(max_depth=5, n_estimators=i, verbosity=0, random_state=1234)\n",
    "    xg_it.fit(enc_xt, enc_yt)\n",
    "    p = xg_it.predict(enc_xv)\n",
    "    msq = mean_squared_error(enc_yv, p)\n",
    "    print('estimators:', i, 'Validation RMSE:', np.sqrt(msq))\n",
    "    print('')"
   ]
  },
  {
   "cell_type": "code",
   "execution_count": 29,
   "metadata": {},
   "outputs": [
    {
     "name": "stderr",
     "output_type": "stream",
     "text": [
      "/opt/conda/lib/python3.7/site-packages/xgboost/core.py:587: FutureWarning: Series.base is deprecated and will be removed in a future version\n",
      "  if getattr(data, 'base', None) is not None and \\\n"
     ]
    },
    {
     "name": "stdout",
     "output_type": "stream",
     "text": [
      "learning rate: 0.2 Validation RMSE: 1692.9912150619978\n",
      "\n"
     ]
    },
    {
     "name": "stderr",
     "output_type": "stream",
     "text": [
      "/opt/conda/lib/python3.7/site-packages/xgboost/core.py:587: FutureWarning: Series.base is deprecated and will be removed in a future version\n",
      "  if getattr(data, 'base', None) is not None and \\\n"
     ]
    },
    {
     "name": "stdout",
     "output_type": "stream",
     "text": [
      "learning rate: 0.3 Validation RMSE: 1691.763353144611\n",
      "\n"
     ]
    },
    {
     "name": "stderr",
     "output_type": "stream",
     "text": [
      "/opt/conda/lib/python3.7/site-packages/xgboost/core.py:587: FutureWarning: Series.base is deprecated and will be removed in a future version\n",
      "  if getattr(data, 'base', None) is not None and \\\n"
     ]
    },
    {
     "name": "stdout",
     "output_type": "stream",
     "text": [
      "learning rate: 0.4 Validation RMSE: 1716.5566826406082\n",
      "\n"
     ]
    }
   ],
   "source": [
    "# tuning learning_rate\n",
    "\n",
    "for i in [0.2, 0.3, 0.4]:\n",
    "    xg_it = xgb.XGBRegressor(max_depth=6, n_estimators=200, learning_rate=i, verbosity=0, random_state=1234)\n",
    "    xg_it.fit(enc_xt, enc_yt)\n",
    "    p = xg_it.predict(enc_xv)\n",
    "    msq = mean_squared_error(enc_yv, p)\n",
    "    print('learning rate:', i, 'Validation RMSE:', np.sqrt(msq))\n",
    "    print('')"
   ]
  },
  {
   "cell_type": "code",
   "execution_count": 30,
   "metadata": {},
   "outputs": [
    {
     "name": "stderr",
     "output_type": "stream",
     "text": [
      "/opt/conda/lib/python3.7/site-packages/xgboost/core.py:587: FutureWarning: Series.base is deprecated and will be removed in a future version\n",
      "  if getattr(data, 'base', None) is not None and \\\n"
     ]
    },
    {
     "data": {
      "text/plain": [
       "30.9988"
      ]
     },
     "execution_count": 30,
     "metadata": {},
     "output_type": "execute_result"
    }
   ],
   "source": [
    "xg_start = time.time()\n",
    "\n",
    "# Final XGBoost Parameters\n",
    "# Max_depth = 5\n",
    "# n_estimators = 200\n",
    "# learning_rate = 0.3\n",
    "\n",
    "xg = xgb.XGBRegressor(max_depth=5, n_estimators=200, learning_rate=0.3, verbosity=0, random_state=1234)\n",
    "xg.fit(enc_xt, enc_yt)\n",
    "\n",
    "xg_end = time.time()\n",
    "xg_time = my_time(xg_start, xg_end)\n",
    "xg_time"
   ]
  },
  {
   "cell_type": "code",
   "execution_count": 31,
   "metadata": {},
   "outputs": [
    {
     "name": "stdout",
     "output_type": "stream",
     "text": [
      "XGBoost RMSE: 1717.2355882837119\n"
     ]
    }
   ],
   "source": [
    "xg_p = xg.predict(enc_xtest)\n",
    "xg_mse = mean_squared_error(enc_ytest, xg_p)\n",
    "print('XGBoost RMSE:', np.sqrt(xg_mse))"
   ]
  },
  {
   "cell_type": "markdown",
   "metadata": {},
   "source": [
    "### CatBoost:\n",
    "---"
   ]
  },
  {
   "cell_type": "code",
   "execution_count": 32,
   "metadata": {},
   "outputs": [
    {
     "name": "stdout",
     "output_type": "stream",
     "text": [
      "depth: 8 RMSE: 1643.3419741025436\n",
      "\n",
      "depth: 9 RMSE: 1625.6597648710735\n",
      "\n",
      "depth: 10 RMSE: 1609.383122700624\n",
      "\n"
     ]
    }
   ],
   "source": [
    "# tuning depth\n",
    "\n",
    "for i in range(8, 11):\n",
    "    cb_it = CatBoostRegressor(depth=i, cat_features=(0, 2, 4, 7, 8, 9), random_state=123, silent=True)\n",
    "    cb_it.fit(x_train, y_train)\n",
    "    p = cb_it.predict(x_val)\n",
    "    msq = mean_squared_error(y_val, p)\n",
    "    print('depth:', i, 'RMSE:', np.sqrt(msq))\n",
    "    print('')"
   ]
  },
  {
   "cell_type": "code",
   "execution_count": null,
   "metadata": {},
   "outputs": [
    {
     "name": "stdout",
     "output_type": "stream",
     "text": [
      "iterations: 900 RMSE: 1615.7325768684195\n",
      "\n",
      "iterations: 1000 RMSE: 1609.383122700624\n",
      "\n"
     ]
    }
   ],
   "source": [
    "# tuning iterations\n",
    "\n",
    "for i in range(900, 1101, 100):\n",
    "    cb_it = CatBoostRegressor(depth=10, iterations=i, cat_features=(0, 2, 4, 7, 8, 9), random_state=123, silent=True)\n",
    "    cb_it.fit(x_train, y_train)\n",
    "    p = cb_it.predict(x_val)\n",
    "    msq = mean_squared_error(y_val, p)\n",
    "    print('iterations:', i, 'RMSE:', np.sqrt(msq))\n",
    "    print('')"
   ]
  },
  {
   "cell_type": "code",
   "execution_count": 34,
   "metadata": {},
   "outputs": [],
   "source": [
    "# tuning learning_rate\n",
    "\n",
    "for i in [0.2, 0.3, 0.4]:\n",
    "    cb_it = CatBoostRegressor(depth=10, iterations=1100, learning_rate=i, cat_features=(0, 2, 4, 7, 8, 9), random_state=123, silent=True)\n",
    "    cb_it.fit(x_train, y_train)\n",
    "    p = cb_it.predict(x_val)\n",
    "    msq = mean_squared_error(y_val, p)\n",
    "    print('learning_rate:', i, 'RMSE:', np.sqrt(msq))\n",
    "    print('')"
   ]
  },
  {
   "cell_type": "code",
   "execution_count": 35,
   "metadata": {},
   "outputs": [
    {
     "data": {},
     "execution_count": 35,
     "metadata": {},
     "output_type": "execute_result"
    }
   ],
   "source": [
    "cb_start = time.time()\n",
    "\n",
    "# Final Params\n",
    "# Depth = 15\n",
    "# iterations = 1100\n",
    "# learning_rate = 0.3\n",
    "\n",
    "cb = CatBoostRegressor(depth=15, iterations=1100, learning_rate=0.3, cat_features=(0, 2, 4, 7, 8, 9), random_state=123, silent=True)\n",
    "cb.fit(x_train, y_train)\n",
    "\n",
    "cb_end = time.time()\n",
    "cb_time = my_time(cb_start, cb_end)\n",
    "cb_time"
   ]
  },
  {
   "cell_type": "code",
   "execution_count": 36,
   "metadata": {},
   "outputs": [],
   "source": [
    "cb_p = cb.predict(x_test)\n",
    "cb_mse = mean_squared_error(y_test, cb_p)\n",
    "print('CatBoost RMSE:', np.sqrt(msq))"
   ]
  },
  {
   "cell_type": "markdown",
   "metadata": {},
   "source": [
    "## 3) Speed and Quality of Models Compared"
   ]
  },
  {
   "cell_type": "code",
   "execution_count": 37,
   "metadata": {},
   "outputs": [
    {
     "data": {},
     "execution_count": 37,
     "metadata": {},
     "output_type": "execute_result"
    }
   ],
   "source": [
    "sq_dict = {\n",
    "    'Model':['Linear Regression', 'Random Forest', 'LightGBM', 'XGBoost', 'CatBoost'],\n",
    "    'RMSE':[np.sqrt(lr_mse), np.sqrt(rf_mse), np.sqrt(lg_mse), np.sqrt(xg_mse), np.sqrt(cb_mse)],\n",
    "    'Train Wall Time (sec)':[lr_time, rf_time, lg_time, xg_time, cb_time]\n",
    "}\n",
    "\n",
    "comps = pd.DataFrame(sq_dict)\n",
    "comps"
   ]
  },
  {
   "cell_type": "markdown",
   "metadata": {},
   "source": [
    "- The cell above shows the RMSE scores and the wall time to train each model type:\n",
    "    - The CatBoost model scored best in terms of RMSE, but has the second longest Training time\n",
    "    - LightGBM on the other hand had the shortest training time and the third best score\n",
    "    - Overall, the gradient boosting models scored better than the sanity check (Linear Regression) and the Random Forest models.\n",
    "    - Depending on the project one may prefer one of the Gradient Boost Models:\n",
    "        - LightGBM for fastest training with a slight tradeoff for RMSE\n",
    "        - CatBoost for best RMSE score, but a very long training time\n",
    "        - XGBoost for a good balance with training much faster than CatBoost with an RMSE only 7% higher relative to CatBoost"
   ]
  }
 ],
 "metadata": {
  "kernelspec": {
   "display_name": "Python 3",
   "language": "python",
   "name": "python3"
  },
  "language_info": {
   "codemirror_mode": {
    "name": "ipython",
    "version": 3
   },
   "file_extension": ".py",
   "mimetype": "text/x-python",
   "name": "python",
   "nbconvert_exporter": "python",
   "pygments_lexer": "ipython3",
   "version": "3.7.6"
  }
 },
 "nbformat": 4,
 "nbformat_minor": 4
}
